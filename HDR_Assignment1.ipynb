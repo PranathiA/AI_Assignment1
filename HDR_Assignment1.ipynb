{
 "cells": [
  {
   "cell_type": "code",
   "execution_count": 38,
   "metadata": {},
   "outputs": [],
   "source": [
    "import keras\n",
    "import numpy as np\n",
    "from keras.datasets import mnist\n",
    "from keras.models import Sequential\n",
    "from keras.layers.core import Dense, Dropout, Activation\n",
    "from keras import optimizers\n",
    "from keras.optimizers import SGD, Adam, RMSprop\n",
    "from keras.callbacks import ReduceLROnPlateau,CSVLogger, EarlyStopping, ModelCheckpoint\n",
    "from keras.utils import np_utils\n",
    "from numpy.random import seed\n",
    "seed(1)"
   ]
  },
  {
   "cell_type": "code",
   "execution_count": 17,
   "metadata": {},
   "outputs": [],
   "source": [
    "(X_train, y_train), (X_test, y_test) = mnist.load_data()"
   ]
  },
  {
   "cell_type": "code",
   "execution_count": 18,
   "metadata": {},
   "outputs": [
    {
     "data": {
      "text/plain": [
       "(10000, 28, 28)"
      ]
     },
     "execution_count": 18,
     "metadata": {},
     "output_type": "execute_result"
    }
   ],
   "source": [
    "X_test.shape\n"
   ]
  },
  {
   "cell_type": "code",
   "execution_count": 19,
   "metadata": {},
   "outputs": [
    {
     "data": {
      "text/plain": [
       "(60000, 28, 28)"
      ]
     },
     "execution_count": 19,
     "metadata": {},
     "output_type": "execute_result"
    }
   ],
   "source": [
    "X_train.shape"
   ]
  },
  {
   "cell_type": "code",
   "execution_count": 20,
   "metadata": {},
   "outputs": [],
   "source": [
    "X_train = X_train.reshape(60000, 784)\n",
    "X_test = X_test.reshape(10000, 784)"
   ]
  },
  {
   "cell_type": "code",
   "execution_count": 28,
   "metadata": {},
   "outputs": [],
   "source": [
    "X_train = X_train.astype('float32')\n",
    "X_test = X_test.astype('float32')"
   ]
  },
  {
   "cell_type": "code",
   "execution_count": 31,
   "metadata": {},
   "outputs": [],
   "source": [
    "train_mean = np.mean(X_train)\n",
    "train_std = np.std(X_train)\n",
    "X_train = (X_train-train_mean)/(train_std+1e-7)"
   ]
  },
  {
   "cell_type": "code",
   "execution_count": 30,
   "metadata": {},
   "outputs": [],
   "source": [
    "test_mean = np.mean(X_test)\n",
    "test_std = np.std(X_test)\n",
    "X_test = (X_test-test_mean)/(test_std+1e-7)"
   ]
  },
  {
   "cell_type": "code",
   "execution_count": 32,
   "metadata": {},
   "outputs": [],
   "source": [
    "Y_train = np_utils.to_categorical(y_train, nr_classes)\n",
    "Y_test = np_utils.to_categorical(y_test, nr_classes)"
   ]
  },
  {
   "cell_type": "code",
   "execution_count": 33,
   "metadata": {},
   "outputs": [],
   "source": [
    "model = Sequential()\n",
    "model.add(Dense(256, input_shape=(784,)))\n",
    "model.add(Activation('relu'))\n",
    "model.add(Dropout(0.5))\n",
    "model.add(Dense(10))\n",
    "model.add(Activation('softmax'))"
   ]
  },
  {
   "cell_type": "code",
   "execution_count": 34,
   "metadata": {},
   "outputs": [
    {
     "name": "stdout",
     "output_type": "stream",
     "text": [
      "_________________________________________________________________\n",
      "Layer (type)                 Output Shape              Param #   \n",
      "=================================================================\n",
      "dense_5 (Dense)              (None, 256)               200960    \n",
      "_________________________________________________________________\n",
      "activation_5 (Activation)    (None, 256)               0         \n",
      "_________________________________________________________________\n",
      "dropout_3 (Dropout)          (None, 256)               0         \n",
      "_________________________________________________________________\n",
      "dense_6 (Dense)              (None, 10)                2570      \n",
      "_________________________________________________________________\n",
      "activation_6 (Activation)    (None, 10)                0         \n",
      "=================================================================\n",
      "Total params: 203,530\n",
      "Trainable params: 203,530\n",
      "Non-trainable params: 0\n",
      "_________________________________________________________________\n"
     ]
    }
   ],
   "source": [
    "model.summary()"
   ]
  },
  {
   "cell_type": "code",
   "execution_count": 35,
   "metadata": {},
   "outputs": [],
   "source": [
    "batch_size = 128\n",
    "num_classes = 10"
   ]
  },
  {
   "cell_type": "code",
   "execution_count": 46,
   "metadata": {},
   "outputs": [],
   "source": [
    "def compile_and_fit_model_Adam(lr,num_epochs):\n",
    "    model.compile(loss='categorical_crossentropy',\n",
    "              optimizer=Adam(lr=lr),\n",
    "              metrics=['accuracy'])\n",
    "    csv_logger = CSVLogger('CSV_logger_'+str(lr)+'_'+str(num_epochs)+'.csv')\n",
    "    model_checkpoint = ModelCheckpoint('Model_checkpoint_'+str(lr)+'_'+str(num_epochs)+'.csv',monitor = 'val_loss',\n",
    "                                    verbose = 1, save_best_only = True)\n",
    "    history = model.fit(X_train, Y_train,\n",
    "                    batch_size = batch_size, nb_epoch = num_epochs,\n",
    "                    verbose = 1, validation_data = (X_test, Y_test),callbacks=[csv_logger,model_checkpoint])\n",
    "    score = model.evaluate(X_test, Y_test, verbose = 0)"
   ]
  },
  {
   "cell_type": "code",
   "execution_count": 47,
   "metadata": {},
   "outputs": [
    {
     "name": "stdout",
     "output_type": "stream",
     "text": [
      "Train on 60000 samples, validate on 10000 samples\n",
      "Epoch 1/20\n",
      "59904/60000 [============================>.] - ETA: 0s - loss: 0.4159 - acc: 0.9079Epoch 00001: val_loss improved from inf to 0.29292, saving model to Model_checkpoint_0.01_20.csv\n",
      "60000/60000 [==============================] - 48s 796us/step - loss: 0.4157 - acc: 0.9080 - val_loss: 0.2929 - val_acc: 0.9487\n",
      "Epoch 2/20\n",
      "59904/60000 [============================>.] - ETA: 0s - loss: 0.4084 - acc: 0.9034Epoch 00002: val_loss improved from 0.29292 to 0.26918, saving model to Model_checkpoint_0.01_20.csv\n",
      "60000/60000 [==============================] - 49s 817us/step - loss: 0.4082 - acc: 0.9034 - val_loss: 0.2692 - val_acc: 0.9510\n",
      "Epoch 3/20\n",
      "59904/60000 [============================>.] - ETA: 0s - loss: 0.4257 - acc: 0.9016Epoch 00003: val_loss did not improve\n",
      "60000/60000 [==============================] - 49s 818us/step - loss: 0.4254 - acc: 0.9017 - val_loss: 0.2982 - val_acc: 0.9486\n",
      "Epoch 4/20\n",
      "59904/60000 [============================>.] - ETA: 0s - loss: 0.4180 - acc: 0.8989- ETA: 2s - loss: Epoch 00004: val_loss did not improve\n",
      "60000/60000 [==============================] - 49s 809us/step - loss: 0.4180 - acc: 0.8989 - val_loss: 0.3015 - val_acc: 0.9492\n",
      "Epoch 5/20\n",
      "59904/60000 [============================>.] - ETA: 0s - loss: 0.4174 - acc: 0.9006Epoch 00005: val_loss improved from 0.26918 to 0.25885, saving model to Model_checkpoint_0.01_20.csv\n",
      "60000/60000 [==============================] - 49s 812us/step - loss: 0.4173 - acc: 0.9006 - val_loss: 0.2588 - val_acc: 0.9529\n",
      "Epoch 6/20\n",
      "59904/60000 [============================>.] - ETA: 0s - loss: 0.4204 - acc: 0.8997Epoch 00006: val_loss did not improve\n",
      "60000/60000 [==============================] - 49s 812us/step - loss: 0.4205 - acc: 0.8997 - val_loss: 0.2903 - val_acc: 0.9484\n",
      "Epoch 7/20\n",
      "59904/60000 [============================>.] - ETA: 0s - loss: 0.4274 - acc: 0.9001Epoch 00007: val_loss did not improve\n",
      "60000/60000 [==============================] - 49s 809us/step - loss: 0.4274 - acc: 0.9001 - val_loss: 0.2805 - val_acc: 0.9509\n",
      "Epoch 8/20\n",
      "59904/60000 [============================>.] - ETA: 0s - loss: 0.4238 - acc: 0.8994Epoch 00008: val_loss did not improve\n",
      "60000/60000 [==============================] - 49s 814us/step - loss: 0.4234 - acc: 0.8995 - val_loss: 0.2708 - val_acc: 0.9493\n",
      "Epoch 9/20\n",
      "59904/60000 [============================>.] - ETA: 0s - loss: 0.4191 - acc: 0.8983Epoch 00009: val_loss did not improve\n",
      "60000/60000 [==============================] - 49s 813us/step - loss: 0.4196 - acc: 0.8983 - val_loss: 0.3032 - val_acc: 0.9461\n",
      "Epoch 10/20\n",
      "59904/60000 [============================>.] - ETA: 0s - loss: 0.4169 - acc: 0.9000Epoch 00010: val_loss did not improve\n",
      "60000/60000 [==============================] - 49s 823us/step - loss: 0.4167 - acc: 0.9000 - val_loss: 0.2917 - val_acc: 0.9521\n",
      "Epoch 11/20\n",
      "59904/60000 [============================>.] - ETA: 0s - loss: 0.4216 - acc: 0.8980- ETA: 5s - loss: 0.4190 -Epoch 00011: val_loss did not improve\n",
      "60000/60000 [==============================] - 49s 814us/step - loss: 0.4219 - acc: 0.8979 - val_loss: 0.3007 - val_acc: 0.9493\n",
      "Epoch 12/20\n",
      "59904/60000 [============================>.] - ETA: 0s - loss: 0.4235 - acc: 0.9006Epoch 00012: val_loss did not improve\n",
      "60000/60000 [==============================] - 49s 813us/step - loss: 0.4233 - acc: 0.9006 - val_loss: 0.2916 - val_acc: 0.9513\n",
      "Epoch 13/20\n",
      "59904/60000 [============================>.] - ETA: 0s - loss: 0.4138 - acc: 0.9006Epoch 00013: val_loss did not improve\n",
      "60000/60000 [==============================] - 49s 816us/step - loss: 0.4135 - acc: 0.9006 - val_loss: 0.3306 - val_acc: 0.9487\n",
      "Epoch 14/20\n",
      "59904/60000 [============================>.] - ETA: 0s - loss: 0.4261 - acc: 0.9006Epoch 00014: val_loss did not improve\n",
      "60000/60000 [==============================] - 51s 857us/step - loss: 0.4258 - acc: 0.9006 - val_loss: 0.3155 - val_acc: 0.9517\n",
      "Epoch 15/20\n",
      "59904/60000 [============================>.] - ETA: 0s - loss: 0.4302 - acc: 0.9026Epoch 00015: val_loss did not improve\n",
      "60000/60000 [==============================] - 51s 846us/step - loss: 0.4302 - acc: 0.9026 - val_loss: 0.3186 - val_acc: 0.9486\n",
      "Epoch 16/20\n",
      "59904/60000 [============================>.] - ETA: 0s - loss: 0.4189 - acc: 0.9024Epoch 00016: val_loss did not improve\n",
      "60000/60000 [==============================] - 52s 862us/step - loss: 0.4192 - acc: 0.9023 - val_loss: 0.2983 - val_acc: 0.9486\n",
      "Epoch 17/20\n",
      "59904/60000 [============================>.] - ETA: 0s - loss: 0.4228 - acc: 0.9023Epoch 00017: val_loss did not improve\n",
      "60000/60000 [==============================] - 49s 819us/step - loss: 0.4226 - acc: 0.9023 - val_loss: 0.3119 - val_acc: 0.9518\n",
      "Epoch 18/20\n",
      "59904/60000 [============================>.] - ETA: 0s - loss: 0.4030 - acc: 0.9059- ETA: 2s - loss: 0.4035 - acc:  - ETA: 1s - loss: 0.4037Epoch 00018: val_loss did not improve\n",
      "60000/60000 [==============================] - 50s 841us/step - loss: 0.4030 - acc: 0.9059 - val_loss: 0.2688 - val_acc: 0.9562\n",
      "Epoch 19/20\n",
      "59904/60000 [============================>.] - ETA: 0s - loss: 0.4106 - acc: 0.9049Epoch 00019: val_loss did not improve\n",
      "60000/60000 [==============================] - 50s 829us/step - loss: 0.4102 - acc: 0.9050 - val_loss: 0.2891 - val_acc: 0.9523\n",
      "Epoch 20/20\n",
      "59904/60000 [============================>.] - ETA: 0s - loss: 0.4163 - acc: 0.9043Epoch 00020: val_loss did not improve\n",
      "60000/60000 [==============================] - 49s 824us/step - loss: 0.4162 - acc: 0.9043 - val_loss: 0.3195 - val_acc: 0.9513\n"
     ]
    }
   ],
   "source": [
    "compile_and_fit_model_Adam(0.01,20)"
   ]
  },
  {
   "cell_type": "code",
   "execution_count": 50,
   "metadata": {},
   "outputs": [
    {
     "name": "stdout",
     "output_type": "stream",
     "text": [
      "Train on 60000 samples, validate on 10000 samples\n",
      "Epoch 1/40\n",
      "59904/60000 [============================>.] - ETA: 0s - loss: 0.3452 - acc: 0.9181- Epoch 00001: val_loss improved from inf to 0.26816, saving model to Model_checkpoint_0.001_40.csv\n",
      "60000/60000 [==============================] - 49s 812us/step - loss: 0.3449 - acc: 0.9181 - val_loss: 0.2682 - val_acc: 0.9592\n",
      "Epoch 2/40\n",
      "59904/60000 [============================>.] - ETA: 0s - loss: 0.3089 - acc: 0.9253Epoch 00002: val_loss improved from 0.26816 to 0.25404, saving model to Model_checkpoint_0.001_40.csv\n",
      "60000/60000 [==============================] - 50s 828us/step - loss: 0.3087 - acc: 0.9253 - val_loss: 0.2540 - val_acc: 0.9601\n",
      "Epoch 3/40\n",
      "59904/60000 [============================>.] - ETA: 0s - loss: 0.2945 - acc: 0.9279Epoch 00003: val_loss improved from 0.25404 to 0.25237, saving model to Model_checkpoint_0.001_40.csv\n",
      "60000/60000 [==============================] - 50s 828us/step - loss: 0.2947 - acc: 0.9279 - val_loss: 0.2524 - val_acc: 0.9596\n",
      "Epoch 4/40\n",
      "59904/60000 [============================>.] - ETA: 0s - loss: 0.2804 - acc: 0.9291Epoch 00004: val_loss improved from 0.25237 to 0.25157, saving model to Model_checkpoint_0.001_40.csv\n",
      "60000/60000 [==============================] - 50s 830us/step - loss: 0.2805 - acc: 0.9292 - val_loss: 0.2516 - val_acc: 0.9603\n",
      "Epoch 5/40\n",
      "59904/60000 [============================>.] - ETA: 0s - loss: 0.2755 - acc: 0.9307- ETA: 3Epoch 00005: val_loss improved from 0.25157 to 0.24722, saving model to Model_checkpoint_0.001_40.csv\n",
      "60000/60000 [==============================] - 50s 826us/step - loss: 0.2754 - acc: 0.9307 - val_loss: 0.2472 - val_acc: 0.9601\n",
      "Epoch 6/40\n",
      "59904/60000 [============================>.] - ETA: 0s - loss: 0.2641 - acc: 0.9324Epoch 00006: val_loss improved from 0.24722 to 0.24617, saving model to Model_checkpoint_0.001_40.csv\n",
      "60000/60000 [==============================] - 50s 829us/step - loss: 0.2645 - acc: 0.9323 - val_loss: 0.2462 - val_acc: 0.9607\n",
      "Epoch 7/40\n",
      "59904/60000 [============================>.] - ETA: 0s - loss: 0.2639 - acc: 0.9329Epoch 00007: val_loss did not improve\n",
      "60000/60000 [==============================] - 50s 837us/step - loss: 0.2643 - acc: 0.9330 - val_loss: 0.2592 - val_acc: 0.9603\n",
      "Epoch 8/40\n",
      "59904/60000 [============================>.] - ETA: 0s - loss: 0.2519 - acc: 0.9366Epoch 00008: val_loss did not improve\n",
      "60000/60000 [==============================] - 50s 829us/step - loss: 0.2518 - acc: 0.9366 - val_loss: 0.2500 - val_acc: 0.9604\n",
      "Epoch 9/40\n",
      "59904/60000 [============================>.] - ETA: 0s - loss: 0.2517 - acc: 0.9358- ETA: 2s - losEpoch 00009: val_loss did not improve\n",
      "60000/60000 [==============================] - 50s 828us/step - loss: 0.2515 - acc: 0.9359 - val_loss: 0.2481 - val_acc: 0.9599\n",
      "Epoch 10/40\n",
      "59904/60000 [============================>.] - ETA: 0s - loss: 0.2482 - acc: 0.9361Epoch 00010: val_loss did not improve\n",
      "60000/60000 [==============================] - 49s 822us/step - loss: 0.2481 - acc: 0.9361 - val_loss: 0.2482 - val_acc: 0.9601\n",
      "Epoch 11/40\n",
      "59904/60000 [============================>.] - ETA: 0s - loss: 0.2487 - acc: 0.9359Epoch 00011: val_loss did not improve\n",
      "60000/60000 [==============================] - 50s 837us/step - loss: 0.2488 - acc: 0.9358 - val_loss: 0.2485 - val_acc: 0.9602\n",
      "Epoch 12/40\n",
      "59904/60000 [============================>.] - ETA: 0s - loss: 0.2420 - acc: 0.9371Epoch 00012: val_loss improved from 0.24617 to 0.23979, saving model to Model_checkpoint_0.001_40.csv\n",
      "60000/60000 [==============================] - 50s 832us/step - loss: 0.2426 - acc: 0.9370 - val_loss: 0.2398 - val_acc: 0.9609\n",
      "Epoch 13/40\n",
      "59904/60000 [============================>.] - ETA: 0s - loss: 0.2413 - acc: 0.9367Epoch 00013: val_loss did not improve\n",
      "60000/60000 [==============================] - 50s 832us/step - loss: 0.2411 - acc: 0.9368 - val_loss: 0.2416 - val_acc: 0.9620\n",
      "Epoch 14/40\n",
      "59904/60000 [============================>.] - ETA: 0s - loss: 0.2406 - acc: 0.9373Epoch 00014: val_loss improved from 0.23979 to 0.23840, saving model to Model_checkpoint_0.001_40.csv\n",
      "60000/60000 [==============================] - 51s 845us/step - loss: 0.2405 - acc: 0.9373 - val_loss: 0.2384 - val_acc: 0.9613\n",
      "Epoch 15/40\n",
      "59904/60000 [============================>.] - ETA: 0s - loss: 0.2372 - acc: 0.9373Epoch 00015: val_loss did not improve\n",
      "60000/60000 [==============================] - 50s 830us/step - loss: 0.2378 - acc: 0.9372 - val_loss: 0.2419 - val_acc: 0.9618\n",
      "Epoch 16/40\n",
      "59904/60000 [============================>.] - ETA: 0s - loss: 0.2322 - acc: 0.9392Epoch 00016: val_loss improved from 0.23840 to 0.23744, saving model to Model_checkpoint_0.001_40.csv\n",
      "60000/60000 [==============================] - 50s 840us/step - loss: 0.2325 - acc: 0.9392 - val_loss: 0.2374 - val_acc: 0.9620\n",
      "Epoch 17/40\n",
      "59904/60000 [============================>.] - ETA: 0s - loss: 0.2326 - acc: 0.9395Epoch 00017: val_loss improved from 0.23744 to 0.23511, saving model to Model_checkpoint_0.001_40.csv\n",
      "60000/60000 [==============================] - 50s 830us/step - loss: 0.2326 - acc: 0.9395 - val_loss: 0.2351 - val_acc: 0.9619\n",
      "Epoch 18/40\n",
      "59904/60000 [============================>.] - ETA: 0s - loss: 0.2335 - acc: 0.9393Epoch 00018: val_loss did not improve\n",
      "60000/60000 [==============================] - 50s 830us/step - loss: 0.2335 - acc: 0.9394 - val_loss: 0.2373 - val_acc: 0.9611\n",
      "Epoch 19/40\n",
      "59904/60000 [============================>.] - ETA: 0s - loss: 0.2188 - acc: 0.9415Epoch 00019: val_loss did not improve\n",
      "60000/60000 [==============================] - 50s 840us/step - loss: 0.2186 - acc: 0.9415 - val_loss: 0.2424 - val_acc: 0.9620\n",
      "Epoch 20/40\n",
      "59904/60000 [============================>.] - ETA: 0s - loss: 0.2261 - acc: 0.9418Epoch 00020: val_loss did not improve\n",
      "60000/60000 [==============================] - 50s 836us/step - loss: 0.2261 - acc: 0.9418 - val_loss: 0.2367 - val_acc: 0.9618\n",
      "Epoch 21/40\n",
      "59904/60000 [============================>.] - ETA: 0s - loss: 0.2202 - acc: 0.9420Epoch 00021: val_loss improved from 0.23511 to 0.23348, saving model to Model_checkpoint_0.001_40.csv\n",
      "60000/60000 [==============================] - 51s 843us/step - loss: 0.2204 - acc: 0.9421 - val_loss: 0.2335 - val_acc: 0.9625\n",
      "Epoch 22/40\n",
      "59904/60000 [============================>.] - ETA: 0s - loss: 0.2173 - acc: 0.9430- ETA: 8s - loss: 0.2152 - acc: 0.94 - ETA: 8s - loss: 0. - ETA: 6s - loss - ETA: 0s - loss: 0.2170 - acc: 0.9Epoch 00022: val_loss improved from 0.23348 to 0.23323, saving model to Model_checkpoint_0.001_40.csv\n",
      "60000/60000 [==============================] - 50s 833us/step - loss: 0.2175 - acc: 0.9430 - val_loss: 0.2332 - val_acc: 0.9623\n",
      "Epoch 23/40\n",
      "59904/60000 [============================>.] - ETA: 0s - loss: 0.2147 - acc: 0.9436Epoch 00023: val_loss did not improve\n",
      "60000/60000 [==============================] - 49s 813us/step - loss: 0.2150 - acc: 0.9435 - val_loss: 0.2373 - val_acc: 0.9613\n",
      "Epoch 24/40\n",
      "59904/60000 [============================>.] - ETA: 0s - loss: 0.2144 - acc: 0.9435Epoch 00024: val_loss did not improve\n",
      "60000/60000 [==============================] - 49s 812us/step - loss: 0.2143 - acc: 0.9435 - val_loss: 0.2405 - val_acc: 0.9622\n",
      "Epoch 25/40\n",
      "59904/60000 [============================>.] - ETA: 0s - loss: 0.2185 - acc: 0.9418Epoch 00025: val_loss improved from 0.23323 to 0.22623, saving model to Model_checkpoint_0.001_40.csv\n",
      "60000/60000 [==============================] - 51s 848us/step - loss: 0.2187 - acc: 0.9418 - val_loss: 0.2262 - val_acc: 0.9627\n",
      "Epoch 26/40\n",
      "59904/60000 [============================>.] - ETA: 0s - loss: 0.2133 - acc: 0.9433Epoch 00026: val_loss did not improve\n",
      "60000/60000 [==============================] - 49s 823us/step - loss: 0.2133 - acc: 0.9433 - val_loss: 0.2320 - val_acc: 0.9619\n",
      "Epoch 27/40\n",
      "59904/60000 [============================>.] - ETA: 0s - loss: 0.2121 - acc: 0.9436Epoch 00027: val_loss did not improve\n",
      "60000/60000 [==============================] - 50s 831us/step - loss: 0.2120 - acc: 0.9436 - val_loss: 0.2301 - val_acc: 0.9621\n",
      "Epoch 28/40\n",
      "59904/60000 [============================>.] - ETA: 0s - loss: 0.2134 - acc: 0.9440Epoch 00028: val_loss did not improve\n",
      "60000/60000 [==============================] - 49s 824us/step - loss: 0.2136 - acc: 0.9440 - val_loss: 0.2319 - val_acc: 0.9612\n"
     ]
    },
    {
     "name": "stdout",
     "output_type": "stream",
     "text": [
      "Epoch 29/40\n",
      "59904/60000 [============================>.] - ETA: 0s - loss: 0.2098 - acc: 0.9441Epoch 00029: val_loss did not improve\n",
      "60000/60000 [==============================] - 49s 810us/step - loss: 0.2097 - acc: 0.9441 - val_loss: 0.2293 - val_acc: 0.9628\n",
      "Epoch 30/40\n",
      "59904/60000 [============================>.] - ETA: 0s - loss: 0.2076 - acc: 0.9442Epoch 00030: val_loss improved from 0.22623 to 0.22142, saving model to Model_checkpoint_0.001_40.csv\n",
      "60000/60000 [==============================] - 49s 813us/step - loss: 0.2074 - acc: 0.9443 - val_loss: 0.2214 - val_acc: 0.9631\n",
      "Epoch 31/40\n",
      "59904/60000 [============================>.] - ETA: 0s - loss: 0.2075 - acc: 0.9442Epoch 00031: val_loss did not improve\n",
      "60000/60000 [==============================] - 49s 812us/step - loss: 0.2077 - acc: 0.9442 - val_loss: 0.2312 - val_acc: 0.9630\n",
      "Epoch 32/40\n",
      "59904/60000 [============================>.] - ETA: 0s - loss: 0.2087 - acc: 0.9447Epoch 00032: val_loss did not improve\n",
      "60000/60000 [==============================] - 49s 810us/step - loss: 0.2087 - acc: 0.9447 - val_loss: 0.2252 - val_acc: 0.9634\n",
      "Epoch 33/40\n",
      "59904/60000 [============================>.] - ETA: 0s - loss: 0.2033 - acc: 0.9463Epoch 00033: val_loss did not improve\n",
      "60000/60000 [==============================] - 49s 816us/step - loss: 0.2032 - acc: 0.9462 - val_loss: 0.2260 - val_acc: 0.9641\n",
      "Epoch 34/40\n",
      "59904/60000 [============================>.] - ETA: 0s - loss: 0.2010 - acc: 0.9467Epoch 00034: val_loss did not improve\n",
      "60000/60000 [==============================] - 49s 822us/step - loss: 0.2009 - acc: 0.9467 - val_loss: 0.2304 - val_acc: 0.9631\n",
      "Epoch 35/40\n",
      "59904/60000 [============================>.] - ETA: 0s - loss: 0.2006 - acc: 0.9462Epoch 00035: val_loss did not improve\n",
      "60000/60000 [==============================] - 49s 819us/step - loss: 0.2006 - acc: 0.9462 - val_loss: 0.2329 - val_acc: 0.9617\n",
      "Epoch 36/40\n",
      "59904/60000 [============================>.] - ETA: 0s - loss: 0.2045 - acc: 0.9451Epoch 00036: val_loss did not improve\n",
      "60000/60000 [==============================] - 49s 820us/step - loss: 0.2044 - acc: 0.9451 - val_loss: 0.2335 - val_acc: 0.9622\n",
      "Epoch 37/40\n",
      "59904/60000 [============================>.] - ETA: 0s - loss: 0.2035 - acc: 0.9455Epoch 00037: val_loss did not improve\n",
      "60000/60000 [==============================] - 49s 815us/step - loss: 0.2035 - acc: 0.9455 - val_loss: 0.2293 - val_acc: 0.9628\n",
      "Epoch 38/40\n",
      "59904/60000 [============================>.] - ETA: 0s - loss: 0.2005 - acc: 0.9458Epoch 00038: val_loss did not improve\n",
      "60000/60000 [==============================] - 49s 821us/step - loss: 0.2005 - acc: 0.9458 - val_loss: 0.2321 - val_acc: 0.9631\n",
      "Epoch 39/40\n",
      "59904/60000 [============================>.] - ETA: 0s - loss: 0.1977 - acc: 0.9478Epoch 00039: val_loss did not improve\n",
      "60000/60000 [==============================] - 49s 823us/step - loss: 0.1976 - acc: 0.9478 - val_loss: 0.2313 - val_acc: 0.9628\n",
      "Epoch 40/40\n",
      "59904/60000 [============================>.] - ETA: 0s - loss: 0.1990 - acc: 0.9472Epoch 00040: val_loss did not improve\n",
      "60000/60000 [==============================] - 49s 820us/step - loss: 0.1989 - acc: 0.9472 - val_loss: 0.2218 - val_acc: 0.9640\n"
     ]
    }
   ],
   "source": [
    "compile_and_fit_model_Adam(0.001,40)"
   ]
  },
  {
   "cell_type": "code",
   "execution_count": 51,
   "metadata": {},
   "outputs": [
    {
     "name": "stdout",
     "output_type": "stream",
     "text": [
      "Train on 60000 samples, validate on 10000 samples\n",
      "Epoch 1/20\n",
      "59904/60000 [============================>.] - ETA: 0s - loss: 0.1894 - acc: 0.9491Epoch 00001: val_loss improved from inf to 0.22419, saving model to Model_checkpoint_0.0001_20.csv\n",
      "60000/60000 [==============================] - 49s 810us/step - loss: 0.1895 - acc: 0.9491 - val_loss: 0.2242 - val_acc: 0.9642\n",
      "Epoch 2/20\n",
      "59904/60000 [============================>.] - ETA: 0s - loss: 0.1891 - acc: 0.9499Epoch 00002: val_loss did not improve\n",
      "60000/60000 [==============================] - 49s 821us/step - loss: 0.1893 - acc: 0.9499 - val_loss: 0.2266 - val_acc: 0.9642\n",
      "Epoch 3/20\n",
      "59904/60000 [============================>.] - ETA: 0s - loss: 0.1879 - acc: 0.9499Epoch 00003: val_loss did not improve\n",
      "60000/60000 [==============================] - 49s 821us/step - loss: 0.1879 - acc: 0.9499 - val_loss: 0.2275 - val_acc: 0.9642\n",
      "Epoch 4/20\n",
      "59904/60000 [============================>.] - ETA: 0s - loss: 0.1866 - acc: 0.9503Epoch 00004: val_loss did not improve\n",
      "60000/60000 [==============================] - 49s 823us/step - loss: 0.1867 - acc: 0.9502 - val_loss: 0.2289 - val_acc: 0.9648\n",
      "Epoch 5/20\n",
      "59904/60000 [============================>.] - ETA: 0s - loss: 0.1895 - acc: 0.9502- ETA: - ETA: 2s - loss: Epoch 00005: val_loss did not improve\n",
      "60000/60000 [==============================] - 50s 828us/step - loss: 0.1897 - acc: 0.9502 - val_loss: 0.2297 - val_acc: 0.9644\n",
      "Epoch 6/20\n",
      "59904/60000 [============================>.] - ETA: 0s - loss: 0.1869 - acc: 0.9502- ETA: 8s - loss: 0.1859 - acc: 0.950 - ETA: 8s - loss: 0.1860  - ETA: 7s -  - ETA: 0s - loss: 0.1864 - acc: Epoch 00006: val_loss did not improve\n",
      "60000/60000 [==============================] - 49s 820us/step - loss: 0.1868 - acc: 0.9503 - val_loss: 0.2295 - val_acc: 0.9638\n",
      "Epoch 7/20\n",
      "59904/60000 [============================>.] - ETA: 0s - loss: 0.1854 - acc: 0.9499- ETA - ETA: 1s - loss: 0.1854 Epoch 00007: val_loss did not improve\n",
      "60000/60000 [==============================] - 49s 823us/step - loss: 0.1853 - acc: 0.9499 - val_loss: 0.2314 - val_acc: 0.9639\n",
      "Epoch 8/20\n",
      "59904/60000 [============================>.] - ETA: 0s - loss: 0.1815 - acc: 0.9514- ETA: 2s - loss: Epoch 00008: val_loss did not improve\n",
      "60000/60000 [==============================] - 49s 822us/step - loss: 0.1814 - acc: 0.9514 - val_loss: 0.2314 - val_acc: 0.9640\n",
      "Epoch 9/20\n",
      "59904/60000 [============================>.] - ETA: 0s - loss: 0.1874 - acc: 0.9502Epoch 00009: val_loss did not improve\n",
      "60000/60000 [==============================] - 50s 829us/step - loss: 0.1873 - acc: 0.9502 - val_loss: 0.2311 - val_acc: 0.9642\n",
      "Epoch 10/20\n",
      "59904/60000 [============================>.] - ETA: 0s - loss: 0.1839 - acc: 0.9505Epoch 00010: val_loss did not improve\n",
      "60000/60000 [==============================] - 49s 815us/step - loss: 0.1838 - acc: 0.9505 - val_loss: 0.2303 - val_acc: 0.9642\n",
      "Epoch 11/20\n",
      "59904/60000 [============================>.] - ETA: 0s - loss: 0.1824 - acc: 0.9508Epoch 00011: val_loss did not improve\n",
      "60000/60000 [==============================] - 50s 833us/step - loss: 0.1824 - acc: 0.9508 - val_loss: 0.2311 - val_acc: 0.9640\n",
      "Epoch 12/20\n",
      "59904/60000 [============================>.] - ETA: 0s - loss: 0.1878 - acc: 0.9489Epoch 00012: val_loss did not improve\n",
      "60000/60000 [==============================] - 49s 814us/step - loss: 0.1877 - acc: 0.9489 - val_loss: 0.2316 - val_acc: 0.9639\n",
      "Epoch 13/20\n",
      "59904/60000 [============================>.] - ETA: 0s - loss: 0.1808 - acc: 0.9512Epoch 00013: val_loss did not improve\n",
      "60000/60000 [==============================] - 49s 825us/step - loss: 0.1808 - acc: 0.9512 - val_loss: 0.2313 - val_acc: 0.9638\n",
      "Epoch 14/20\n",
      "59904/60000 [============================>.] - ETA: 0s - loss: 0.1789 - acc: 0.9514Epoch 00014: val_loss did not improve\n",
      "60000/60000 [==============================] - 49s 816us/step - loss: 0.1788 - acc: 0.9515 - val_loss: 0.2322 - val_acc: 0.9640\n",
      "Epoch 15/20\n",
      "59904/60000 [============================>.] - ETA: 0s - loss: 0.1847 - acc: 0.9503- ETA: 0s - loss: 0.1846 - acc:Epoch 00015: val_loss did not improve\n",
      "60000/60000 [==============================] - 50s 827us/step - loss: 0.1849 - acc: 0.9502 - val_loss: 0.2320 - val_acc: 0.9639\n",
      "Epoch 16/20\n",
      "59904/60000 [============================>.] - ETA: 0s - loss: 0.1867 - acc: 0.9502Epoch 00016: val_loss did not improve\n",
      "60000/60000 [==============================] - 49s 823us/step - loss: 0.1869 - acc: 0.9502 - val_loss: 0.2318 - val_acc: 0.9638\n",
      "Epoch 17/20\n",
      "59904/60000 [============================>.] - ETA: 0s - loss: 0.1850 - acc: 0.9506Epoch 00017: val_loss did not improve\n",
      "60000/60000 [==============================] - 50s 830us/step - loss: 0.1848 - acc: 0.9506 - val_loss: 0.2316 - val_acc: 0.9644\n",
      "Epoch 18/20\n",
      "59904/60000 [============================>.] - ETA: 0s - loss: 0.1858 - acc: 0.9502Epoch 00018: val_loss did not improve\n",
      "60000/60000 [==============================] - 49s 814us/step - loss: 0.1864 - acc: 0.9502 - val_loss: 0.2322 - val_acc: 0.9643\n",
      "Epoch 19/20\n",
      "59904/60000 [============================>.] - ETA: 0s - loss: 0.1841 - acc: 0.9499Epoch 00019: val_loss did not improve\n",
      "60000/60000 [==============================] - 49s 820us/step - loss: 0.1841 - acc: 0.9499 - val_loss: 0.2325 - val_acc: 0.9637\n",
      "Epoch 20/20\n",
      "59904/60000 [============================>.] - ETA: 0s - loss: 0.1856 - acc: 0.9505Epoch 00020: val_loss did not improve\n",
      "60000/60000 [==============================] - 49s 818us/step - loss: 0.1856 - acc: 0.9504 - val_loss: 0.2337 - val_acc: 0.9638\n"
     ]
    }
   ],
   "source": [
    "compile_and_fit_model_Adam(0.0001,20)"
   ]
  },
  {
   "cell_type": "code",
   "execution_count": 49,
   "metadata": {},
   "outputs": [],
   "source": [
    "def compile_and_fit_model_SGD(lr,num_epochs):\n",
    "    model.compile(loss='categorical_crossentropy',\n",
    "              optimizer=SGD(lr=lr),\n",
    "              metrics=['accuracy'])\n",
    "    csv_logger = CSVLogger('CSV_logger_SGD_'+str(lr)+'_'+str(num_epochs)+'.csv')\n",
    "    model_checkpoint = ModelCheckpoint('Model_checkpoint_SGD_'+str(lr)+'_'+str(num_epochs)+'.csv',monitor = 'val_loss',\n",
    "                                    verbose = 1, save_best_only = True)\n",
    "    history = model.fit(X_train, Y_train,\n",
    "                    batch_size = batch_size, nb_epoch = num_epochs,\n",
    "                    verbose = 1, validation_data = (X_test, Y_test),callbacks=[csv_logger,model_checkpoint])\n",
    "    score = model.evaluate(X_test, Y_test, verbose = 0)"
   ]
  },
  {
   "cell_type": "code",
   "execution_count": 34,
   "metadata": {},
   "outputs": [
    {
     "name": "stdout",
     "output_type": "stream",
     "text": [
      "Train on 60000 samples, validate on 10000 samples\n",
      "Epoch 1/40\n",
      "60000/60000 [==============================] - 9s 157us/step - loss: 0.0170 - acc: 0.9942 - val_loss: 0.0691 - val_acc: 0.9828\n",
      "Epoch 2/40\n",
      "60000/60000 [==============================] - 10s 159us/step - loss: 0.0165 - acc: 0.9948 - val_loss: 0.0691 - val_acc: 0.9827\n",
      "Epoch 3/40\n",
      "60000/60000 [==============================] - 9s 156us/step - loss: 0.0155 - acc: 0.9950 - val_loss: 0.0692 - val_acc: 0.9827\n",
      "Epoch 4/40\n",
      "60000/60000 [==============================] - 10s 159us/step - loss: 0.0168 - acc: 0.9943 - val_loss: 0.0692 - val_acc: 0.9828\n",
      "Epoch 5/40\n",
      "60000/60000 [==============================] - 9s 156us/step - loss: 0.0156 - acc: 0.9948 - val_loss: 0.0691 - val_acc: 0.9829\n",
      "Epoch 6/40\n",
      "60000/60000 [==============================] - 10s 160us/step - loss: 0.0165 - acc: 0.9945 - val_loss: 0.0692 - val_acc: 0.9828\n",
      "Epoch 7/40\n",
      "60000/60000 [==============================] - 9s 158us/step - loss: 0.0162 - acc: 0.9947 - val_loss: 0.0691 - val_acc: 0.9827\n",
      "Epoch 8/40\n",
      "60000/60000 [==============================] - 10s 159us/step - loss: 0.0156 - acc: 0.9946 - val_loss: 0.0693 - val_acc: 0.9827\n",
      "Epoch 9/40\n",
      "60000/60000 [==============================] - 9s 155us/step - loss: 0.0158 - acc: 0.9950 - val_loss: 0.0692 - val_acc: 0.9827\n",
      "Epoch 10/40\n",
      "60000/60000 [==============================] - 9s 153us/step - loss: 0.0159 - acc: 0.9947 - val_loss: 0.0693 - val_acc: 0.9827\n",
      "Epoch 11/40\n",
      "60000/60000 [==============================] - 9s 156us/step - loss: 0.0164 - acc: 0.9947 - val_loss: 0.0694 - val_acc: 0.9827\n",
      "Epoch 12/40\n",
      "60000/60000 [==============================] - 9s 155us/step - loss: 0.0154 - acc: 0.9947 - val_loss: 0.0693 - val_acc: 0.9827\n",
      "Epoch 13/40\n",
      "60000/60000 [==============================] - 9s 154us/step - loss: 0.0162 - acc: 0.9948 - val_loss: 0.0695 - val_acc: 0.9827\n",
      "Epoch 14/40\n",
      "60000/60000 [==============================] - 9s 154us/step - loss: 0.0153 - acc: 0.9950 - val_loss: 0.0694 - val_acc: 0.9829\n",
      "Epoch 15/40\n",
      "60000/60000 [==============================] - 9s 154us/step - loss: 0.0157 - acc: 0.9948 - val_loss: 0.0694 - val_acc: 0.9829\n",
      "Epoch 16/40\n",
      "60000/60000 [==============================] - 10s 162us/step - loss: 0.0169 - acc: 0.9943 - val_loss: 0.0694 - val_acc: 0.9829\n",
      "Epoch 17/40\n",
      "60000/60000 [==============================] - 9s 154us/step - loss: 0.0161 - acc: 0.9948 - val_loss: 0.0693 - val_acc: 0.9829\n",
      "Epoch 18/40\n",
      "60000/60000 [==============================] - 9s 153us/step - loss: 0.0154 - acc: 0.9948 - val_loss: 0.0691 - val_acc: 0.9829\n",
      "Epoch 19/40\n",
      "60000/60000 [==============================] - 9s 154us/step - loss: 0.0137 - acc: 0.9956 - val_loss: 0.0693 - val_acc: 0.9830\n",
      "Epoch 20/40\n",
      "60000/60000 [==============================] - 9s 152us/step - loss: 0.0155 - acc: 0.9947 - val_loss: 0.0693 - val_acc: 0.9829\n",
      "Epoch 21/40\n",
      "60000/60000 [==============================] - 9s 155us/step - loss: 0.0164 - acc: 0.9942 - val_loss: 0.0692 - val_acc: 0.9829\n",
      "Epoch 22/40\n",
      "60000/60000 [==============================] - 9s 153us/step - loss: 0.0156 - acc: 0.9949 - val_loss: 0.0693 - val_acc: 0.9829\n",
      "Epoch 23/40\n",
      "60000/60000 [==============================] - 9s 154us/step - loss: 0.0154 - acc: 0.9950 - val_loss: 0.0694 - val_acc: 0.9830\n",
      "Epoch 24/40\n",
      "60000/60000 [==============================] - 9s 153us/step - loss: 0.0156 - acc: 0.9951 - val_loss: 0.0695 - val_acc: 0.9831\n",
      "Epoch 25/40\n",
      "60000/60000 [==============================] - 9s 154us/step - loss: 0.0157 - acc: 0.9948 - val_loss: 0.0695 - val_acc: 0.9832\n",
      "Epoch 26/40\n",
      "60000/60000 [==============================] - 9s 158us/step - loss: 0.0150 - acc: 0.9950 - val_loss: 0.0695 - val_acc: 0.9829\n",
      "Epoch 27/40\n",
      "60000/60000 [==============================] - 9s 156us/step - loss: 0.0154 - acc: 0.9950 - val_loss: 0.0696 - val_acc: 0.9830\n",
      "Epoch 28/40\n",
      "60000/60000 [==============================] - 9s 154us/step - loss: 0.0161 - acc: 0.9950 - val_loss: 0.0695 - val_acc: 0.9829\n",
      "Epoch 29/40\n",
      "60000/60000 [==============================] - 10s 160us/step - loss: 0.0159 - acc: 0.9945 - val_loss: 0.0693 - val_acc: 0.9829\n",
      "Epoch 30/40\n",
      "60000/60000 [==============================] - 9s 155us/step - loss: 0.0151 - acc: 0.9953 - val_loss: 0.0694 - val_acc: 0.9829\n",
      "Epoch 31/40\n",
      "60000/60000 [==============================] - 9s 157us/step - loss: 0.0158 - acc: 0.9953 - val_loss: 0.0693 - val_acc: 0.9829\n",
      "Epoch 32/40\n",
      "60000/60000 [==============================] - 9s 154us/step - loss: 0.0154 - acc: 0.9950 - val_loss: 0.0694 - val_acc: 0.9829\n",
      "Epoch 33/40\n",
      "60000/60000 [==============================] - 9s 157us/step - loss: 0.0153 - acc: 0.9951 - val_loss: 0.0694 - val_acc: 0.9829\n",
      "Epoch 34/40\n",
      "60000/60000 [==============================] - 9s 158us/step - loss: 0.0160 - acc: 0.9948 - val_loss: 0.0691 - val_acc: 0.9829\n",
      "Epoch 35/40\n",
      "60000/60000 [==============================] - 9s 158us/step - loss: 0.0146 - acc: 0.9953 - val_loss: 0.0691 - val_acc: 0.9828\n",
      "Epoch 36/40\n",
      "60000/60000 [==============================] - 9s 155us/step - loss: 0.0149 - acc: 0.9950 - val_loss: 0.0691 - val_acc: 0.9828\n",
      "Epoch 37/40\n",
      "60000/60000 [==============================] - 9s 154us/step - loss: 0.0163 - acc: 0.9946 - val_loss: 0.0692 - val_acc: 0.9828\n",
      "Epoch 38/40\n",
      "60000/60000 [==============================] - 9s 155us/step - loss: 0.0146 - acc: 0.9950 - val_loss: 0.0691 - val_acc: 0.9829\n",
      "Epoch 39/40\n",
      "60000/60000 [==============================] - 9s 155us/step - loss: 0.0157 - acc: 0.9950 - val_loss: 0.0692 - val_acc: 0.9832\n",
      "Epoch 40/40\n",
      "60000/60000 [==============================] - 9s 154us/step - loss: 0.0151 - acc: 0.9952 - val_loss: 0.0693 - val_acc: 0.9831\n"
     ]
    }
   ],
   "source": [
    "compile_and_fit_model_SGD(0.01,20)"
   ]
  },
  {
   "cell_type": "code",
   "execution_count": 52,
   "metadata": {},
   "outputs": [
    {
     "name": "stdout",
     "output_type": "stream",
     "text": [
      "Train on 60000 samples, validate on 10000 samples\n",
      "Epoch 1/20\n",
      "59904/60000 [============================>.] - ETA: 0s - loss: 0.1877 - acc: 0.9493Epoch 00001: val_loss improved from inf to 0.23356, saving model to Model_checkpoint_SGD_0.01_20.csv\n",
      "60000/60000 [==============================] - 35s 584us/step - loss: 0.1875 - acc: 0.9494 - val_loss: 0.2336 - val_acc: 0.9634\n",
      "Epoch 2/20\n",
      "59904/60000 [============================>.] - ETA: 0s - loss: 0.1858 - acc: 0.9488Epoch 00002: val_loss did not improve\n",
      "60000/60000 [==============================] - 34s 563us/step - loss: 0.1857 - acc: 0.9488 - val_loss: 0.2343 - val_acc: 0.9638\n",
      "Epoch 3/20\n",
      "59904/60000 [============================>.] - ETA: 0s - loss: 0.1873 - acc: 0.9490- ETA: 7Epoch 00003: val_loss did not improve\n",
      "60000/60000 [==============================] - 34s 563us/step - loss: 0.1873 - acc: 0.9489 - val_loss: 0.2336 - val_acc: 0.9640\n",
      "Epoch 4/20\n",
      "59904/60000 [============================>.] - ETA: 0s - loss: 0.1900 - acc: 0.9485Epoch 00004: val_loss did not improve\n",
      "60000/60000 [==============================] - 34s 570us/step - loss: 0.1903 - acc: 0.9484 - val_loss: 0.2338 - val_acc: 0.9634\n",
      "Epoch 5/20\n",
      "59904/60000 [============================>.] - ETA: 0s - loss: 0.1887 - acc: 0.9490Epoch 00005: val_loss did not improve\n",
      "60000/60000 [==============================] - 34s 570us/step - loss: 0.1886 - acc: 0.9491 - val_loss: 0.2341 - val_acc: 0.9634\n",
      "Epoch 6/20\n",
      "59904/60000 [============================>.] - ETA: 0s - loss: 0.1901 - acc: 0.9497Epoch 00006: val_loss improved from 0.23356 to 0.23197, saving model to Model_checkpoint_SGD_0.01_20.csv\n",
      "60000/60000 [==============================] - 34s 567us/step - loss: 0.1901 - acc: 0.9496 - val_loss: 0.2320 - val_acc: 0.9634\n",
      "Epoch 7/20\n",
      "59904/60000 [============================>.] - ETA: 0s - loss: 0.1911 - acc: 0.9485Epoch 00007: val_loss improved from 0.23197 to 0.23141, saving model to Model_checkpoint_SGD_0.01_20.csv\n",
      "60000/60000 [==============================] - 34s 565us/step - loss: 0.1910 - acc: 0.9485 - val_loss: 0.2314 - val_acc: 0.9644\n",
      "Epoch 8/20\n",
      "59904/60000 [============================>.] - ETA: 0s - loss: 0.1855 - acc: 0.9496Epoch 00008: val_loss did not improve\n",
      "60000/60000 [==============================] - 34s 568us/step - loss: 0.1855 - acc: 0.9495 - val_loss: 0.2364 - val_acc: 0.9622\n",
      "Epoch 9/20\n",
      "59904/60000 [============================>.] - ETA: 0s - loss: 0.1866 - acc: 0.9504- ETA: 1s - loss:Epoch 00009: val_loss did not improve\n",
      "60000/60000 [==============================] - 34s 562us/step - loss: 0.1865 - acc: 0.9504 - val_loss: 0.2350 - val_acc: 0.9636\n",
      "Epoch 10/20\n",
      "59904/60000 [============================>.] - ETA: 0s - loss: 0.1904 - acc: 0.9481Epoch 00010: val_loss did not improve\n",
      "60000/60000 [==============================] - 34s 564us/step - loss: 0.1904 - acc: 0.9482 - val_loss: 0.2424 - val_acc: 0.9612\n",
      "Epoch 11/20\n",
      "59904/60000 [============================>.] - ETA: 0s - loss: 0.1883 - acc: 0.9503Epoch 00011: val_loss did not improve\n",
      "60000/60000 [==============================] - 34s 566us/step - loss: 0.1883 - acc: 0.9503 - val_loss: 0.2341 - val_acc: 0.9641\n",
      "Epoch 12/20\n",
      "59904/60000 [============================>.] - ETA: 0s - loss: 0.1860 - acc: 0.9494Epoch 00012: val_loss did not improve\n",
      "60000/60000 [==============================] - 34s 571us/step - loss: 0.1863 - acc: 0.9494 - val_loss: 0.2354 - val_acc: 0.9631\n",
      "Epoch 13/20\n",
      "59904/60000 [============================>.] - ETA: 0s - loss: 0.1881 - acc: 0.9494Epoch 00013: val_loss did not improve\n",
      "60000/60000 [==============================] - 34s 568us/step - loss: 0.1881 - acc: 0.9494 - val_loss: 0.2347 - val_acc: 0.9636\n",
      "Epoch 14/20\n",
      "59904/60000 [============================>.] - ETA: 0s - loss: 0.1889 - acc: 0.9482Epoch 00014: val_loss did not improve\n",
      "60000/60000 [==============================] - 34s 565us/step - loss: 0.1887 - acc: 0.9483 - val_loss: 0.2347 - val_acc: 0.9623\n",
      "Epoch 15/20\n",
      "59904/60000 [============================>.] - ETA: 0s - loss: 0.1875 - acc: 0.9495Epoch 00015: val_loss did not improve\n",
      "60000/60000 [==============================] - 34s 575us/step - loss: 0.1873 - acc: 0.9495 - val_loss: 0.2347 - val_acc: 0.9638\n",
      "Epoch 16/20\n",
      "59904/60000 [============================>.] - ETA: 0s - loss: 0.1892 - acc: 0.9496Epoch 00016: val_loss did not improve\n",
      "60000/60000 [==============================] - 34s 563us/step - loss: 0.1892 - acc: 0.9495 - val_loss: 0.2334 - val_acc: 0.9641\n",
      "Epoch 17/20\n",
      "59904/60000 [============================>.] - ETA: 0s - loss: 0.1837 - acc: 0.9502Epoch 00017: val_loss did not improve\n",
      "60000/60000 [==============================] - 34s 571us/step - loss: 0.1836 - acc: 0.9502 - val_loss: 0.2342 - val_acc: 0.9640\n",
      "Epoch 18/20\n",
      "59904/60000 [============================>.] - ETA: 0s - loss: 0.1832 - acc: 0.9501Epoch 00018: val_loss did not improve\n",
      "60000/60000 [==============================] - 34s 565us/step - loss: 0.1830 - acc: 0.9501 - val_loss: 0.2332 - val_acc: 0.9636\n",
      "Epoch 19/20\n",
      "59904/60000 [============================>.] - ETA: 0s - loss: 0.1879 - acc: 0.9498Epoch 00019: val_loss did not improve\n",
      "60000/60000 [==============================] - 35s 580us/step - loss: 0.1883 - acc: 0.9497 - val_loss: 0.2346 - val_acc: 0.9626\n",
      "Epoch 20/20\n",
      "59904/60000 [============================>.] - ETA: 0s - loss: 0.1860 - acc: 0.9504Epoch 00020: val_loss did not improve\n",
      "60000/60000 [==============================] - 35s 577us/step - loss: 0.1859 - acc: 0.9504 - val_loss: 0.2337 - val_acc: 0.9642\n"
     ]
    }
   ],
   "source": [
    "compile_and_fit_model_SGD(0.001,20)"
   ]
  },
  {
   "cell_type": "code",
   "execution_count": null,
   "metadata": {},
   "outputs": [],
   "source": []
  }
 ],
 "metadata": {
  "kernelspec": {
   "display_name": "Python 2",
   "language": "python",
   "name": "python2"
  },
  "language_info": {
   "codemirror_mode": {
    "name": "ipython",
    "version": 2
   },
   "file_extension": ".py",
   "mimetype": "text/x-python",
   "name": "python",
   "nbconvert_exporter": "python",
   "pygments_lexer": "ipython2",
   "version": "2.7.9"
  }
 },
 "nbformat": 4,
 "nbformat_minor": 2
}
