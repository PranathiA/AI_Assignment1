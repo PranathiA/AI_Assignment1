{
 "cells": [
  {
   "cell_type": "code",
   "execution_count": 117,
   "metadata": {},
   "outputs": [],
   "source": [
    "import keras\n",
    "import numpy as np\n",
    "from keras.datasets import mnist\n",
    "from keras.models import Sequential\n",
    "from keras.layers.core import Dense, Dropout, Activation\n",
    "from keras import optimizers\n",
    "from keras.optimizers import SGD, Adam, RMSprop\n",
    "from keras.callbacks import ReduceLROnPlateau,CSVLogger, EarlyStopping, ModelCheckpoint\n",
    "from keras.utils import np_utils\n",
    "from numpy.random import seed\n",
    "seed(1)"
   ]
  },
  {
   "cell_type": "code",
   "execution_count": 118,
   "metadata": {},
   "outputs": [],
   "source": [
    "(X_train, y_train), (X_test, y_test) = mnist.load_data()"
   ]
  },
  {
   "cell_type": "code",
   "execution_count": 119,
   "metadata": {},
   "outputs": [
    {
     "data": {
      "text/plain": [
       "(60000,)"
      ]
     },
     "execution_count": 119,
     "metadata": {},
     "output_type": "execute_result"
    }
   ],
   "source": [
    "y_train.shape\n"
   ]
  },
  {
   "cell_type": "code",
   "execution_count": 120,
   "metadata": {},
   "outputs": [
    {
     "data": {
      "text/plain": [
       "(60000, 28, 28)"
      ]
     },
     "execution_count": 120,
     "metadata": {},
     "output_type": "execute_result"
    }
   ],
   "source": [
    "X_train.shape"
   ]
  },
  {
   "cell_type": "code",
   "execution_count": 121,
   "metadata": {},
   "outputs": [],
   "source": [
    "X_train = X_train.reshape(60000, 784)\n",
    "X_test = X_test.reshape(10000, 784)"
   ]
  },
  {
   "cell_type": "code",
   "execution_count": 122,
   "metadata": {},
   "outputs": [],
   "source": [
    "X_train = X_train.astype('float32')\n",
    "X_test = X_test.astype('float32')"
   ]
  },
  {
   "cell_type": "code",
   "execution_count": 123,
   "metadata": {},
   "outputs": [],
   "source": [
    "X_train/=255\n",
    "X_test/=255"
   ]
  },
  {
   "cell_type": "code",
   "execution_count": 124,
   "metadata": {},
   "outputs": [],
   "source": [
    "X_validation = X_train[50000:][:]\n",
    "X_train = X_train[:50000][:]"
   ]
  },
  {
   "cell_type": "code",
   "execution_count": 125,
   "metadata": {},
   "outputs": [],
   "source": [
    "num_classes=10"
   ]
  },
  {
   "cell_type": "code",
   "execution_count": 126,
   "metadata": {},
   "outputs": [
    {
     "data": {
      "text/plain": [
       "(50000, 784)"
      ]
     },
     "execution_count": 126,
     "metadata": {},
     "output_type": "execute_result"
    }
   ],
   "source": [
    "X_train.shape"
   ]
  },
  {
   "cell_type": "code",
   "execution_count": 127,
   "metadata": {},
   "outputs": [
    {
     "data": {
      "text/plain": [
       "(10000, 784)"
      ]
     },
     "execution_count": 127,
     "metadata": {},
     "output_type": "execute_result"
    }
   ],
   "source": [
    "X_validation.shape"
   ]
  },
  {
   "cell_type": "code",
   "execution_count": 128,
   "metadata": {},
   "outputs": [],
   "source": [
    "Y_train = np_utils.to_categorical(y_train, num_classes)\n",
    "Y_test = np_utils.to_categorical(y_test, num_classes)"
   ]
  },
  {
   "cell_type": "code",
   "execution_count": 129,
   "metadata": {},
   "outputs": [
    {
     "data": {
      "text/plain": [
       "(60000, 10)"
      ]
     },
     "execution_count": 129,
     "metadata": {},
     "output_type": "execute_result"
    }
   ],
   "source": [
    "Y_train.shape"
   ]
  },
  {
   "cell_type": "code",
   "execution_count": 130,
   "metadata": {},
   "outputs": [
    {
     "data": {
      "text/plain": [
       "(10000, 10)"
      ]
     },
     "execution_count": 130,
     "metadata": {},
     "output_type": "execute_result"
    }
   ],
   "source": [
    "Y_validation.shape"
   ]
  },
  {
   "cell_type": "code",
   "execution_count": 131,
   "metadata": {},
   "outputs": [],
   "source": [
    "Y_validation = Y_train[50000:][:]\n",
    "Y_train = Y_train[:50000][:]"
   ]
  },
  {
   "cell_type": "code",
   "execution_count": 132,
   "metadata": {},
   "outputs": [],
   "source": [
    "model = Sequential()\n",
    "model.add(Dense(256, input_shape=(784,)))\n",
    "model.add(Activation('relu'))\n",
    "model.add(Dropout(0.5))\n",
    "model.add(Dense(10))\n",
    "model.add(Activation('softmax'))"
   ]
  },
  {
   "cell_type": "code",
   "execution_count": 133,
   "metadata": {},
   "outputs": [
    {
     "name": "stdout",
     "output_type": "stream",
     "text": [
      "_________________________________________________________________\n",
      "Layer (type)                 Output Shape              Param #   \n",
      "=================================================================\n",
      "dense_15 (Dense)             (None, 256)               200960    \n",
      "_________________________________________________________________\n",
      "activation_15 (Activation)   (None, 256)               0         \n",
      "_________________________________________________________________\n",
      "dropout_8 (Dropout)          (None, 256)               0         \n",
      "_________________________________________________________________\n",
      "dense_16 (Dense)             (None, 10)                2570      \n",
      "_________________________________________________________________\n",
      "activation_16 (Activation)   (None, 10)                0         \n",
      "=================================================================\n",
      "Total params: 203,530\n",
      "Trainable params: 203,530\n",
      "Non-trainable params: 0\n",
      "_________________________________________________________________\n"
     ]
    }
   ],
   "source": [
    "model.summary()"
   ]
  },
  {
   "cell_type": "code",
   "execution_count": 134,
   "metadata": {},
   "outputs": [],
   "source": [
    "batch_size = 128\n",
    "num_iterations = 20"
   ]
  },
  {
   "cell_type": "code",
   "execution_count": 135,
   "metadata": {},
   "outputs": [
    {
     "name": "stdout",
     "output_type": "stream",
     "text": [
      "Train on 50000 samples, validate on 10000 samples\n",
      "Epoch 1/20\n",
      "49792/50000 [============================>.] - ETA: 0s - loss: 0.3585 - acc: 0.8889Epoch 00001: val_loss improved from inf to 0.14117, saving model to Checkpoint_0.01_model256.hdf5\n",
      "50000/50000 [==============================] - 12s 248us/step - loss: 0.3582 - acc: 0.8891 - val_loss: 0.1412 - val_acc: 0.9590\n",
      "Epoch 2/20\n",
      "49792/50000 [============================>.] - ETA: 0s - loss: 0.2643 - acc: 0.9220Epoch 00002: val_loss improved from 0.14117 to 0.13041, saving model to Checkpoint_0.01_model256.hdf5\n",
      "50000/50000 [==============================] - 12s 233us/step - loss: 0.2646 - acc: 0.9220 - val_loss: 0.1304 - val_acc: 0.9618\n",
      "Epoch 3/20\n",
      "49792/50000 [============================>.] - ETA: 0s - loss: 0.2421 - acc: 0.9283Epoch 00003: val_loss improved from 0.13041 to 0.12023, saving model to Checkpoint_0.01_model256.hdf5\n",
      "50000/50000 [==============================] - 13s 262us/step - loss: 0.2420 - acc: 0.9283 - val_loss: 0.1202 - val_acc: 0.9663\n",
      "Epoch 4/20\n",
      "49920/50000 [============================>.] - ETA: 0s - loss: 0.2321 - acc: 0.9333Epoch 00004: val_loss did not improve\n",
      "50000/50000 [==============================] - 13s 263us/step - loss: 0.2320 - acc: 0.9334 - val_loss: 0.1207 - val_acc: 0.9685\n",
      "Epoch 5/20\n",
      "49792/50000 [============================>.] - ETA: 0s - loss: 0.2150 - acc: 0.9391Epoch 00005: val_loss did not improve\n",
      "50000/50000 [==============================] - 13s 263us/step - loss: 0.2151 - acc: 0.9392 - val_loss: 0.1314 - val_acc: 0.9647\n",
      "Epoch 6/20\n",
      "49792/50000 [============================>.] - ETA: 0s - loss: 0.2223 - acc: 0.9373Epoch 00006: val_loss did not improve\n",
      "50000/50000 [==============================] - 13s 267us/step - loss: 0.2232 - acc: 0.9372 - val_loss: 0.1273 - val_acc: 0.9689\n",
      "Epoch 7/20\n",
      "49792/50000 [============================>.] - ETA: 0s - loss: 0.2076 - acc: 0.9439Epoch 00007: val_loss did not improve\n",
      "50000/50000 [==============================] - 13s 269us/step - loss: 0.2074 - acc: 0.9439 - val_loss: 0.1345 - val_acc: 0.9689\n",
      "Epoch 8/20\n",
      "49792/50000 [============================>.] - ETA: 0s - loss: 0.2171 - acc: 0.9407Epoch 00008: val_loss did not improve\n",
      "50000/50000 [==============================] - 13s 266us/step - loss: 0.2170 - acc: 0.9406 - val_loss: 0.1306 - val_acc: 0.9707\n",
      "Epoch 9/20\n",
      "49792/50000 [============================>.] - ETA: 0s - loss: 0.2011 - acc: 0.9448- ETA: 1s - loss: 0.Epoch 00009: val_loss did not improve\n",
      "50000/50000 [==============================] - 14s 273us/step - loss: 0.2020 - acc: 0.9447 - val_loss: 0.1363 - val_acc: 0.9697\n",
      "Epoch 10/20\n",
      "49920/50000 [============================>.] - ETA: 0s - loss: 0.2079 - acc: 0.9463Epoch 00010: val_loss did not improve\n",
      "50000/50000 [==============================] - 14s 270us/step - loss: 0.2077 - acc: 0.9463 - val_loss: 0.1384 - val_acc: 0.9698\n",
      "Epoch 11/20\n",
      "49792/50000 [============================>.] - ETA: 0s - loss: 0.2035 - acc: 0.9467Epoch 00011: val_loss did not improve\n",
      "50000/50000 [==============================] - 14s 273us/step - loss: 0.2040 - acc: 0.9465 - val_loss: 0.1455 - val_acc: 0.9681\n",
      "Epoch 12/20\n",
      "49920/50000 [============================>.] - ETA: 0s - loss: 0.2027 - acc: 0.9464Epoch 00012: val_loss did not improve\n",
      "50000/50000 [==============================] - 14s 274us/step - loss: 0.2027 - acc: 0.9463 - val_loss: 0.1387 - val_acc: 0.9697\n",
      "Epoch 13/20\n",
      "49792/50000 [============================>.] - ETA: 0s - loss: 0.1894 - acc: 0.9507Epoch 00013: val_loss did not improve\n",
      "50000/50000 [==============================] - 14s 274us/step - loss: 0.1891 - acc: 0.9508 - val_loss: 0.1490 - val_acc: 0.9692\n",
      "Epoch 14/20\n",
      "49792/50000 [============================>.] - ETA: 0s - loss: 0.1890 - acc: 0.9504Epoch 00014: val_loss did not improve\n",
      "50000/50000 [==============================] - 14s 276us/step - loss: 0.1888 - acc: 0.9505 - val_loss: 0.1339 - val_acc: 0.9715\n",
      "Epoch 15/20\n",
      "49920/50000 [============================>.] - ETA: 0s - loss: 0.2040 - acc: 0.9485Epoch 00015: val_loss did not improve\n",
      "50000/50000 [==============================] - 14s 276us/step - loss: 0.2039 - acc: 0.9485 - val_loss: 0.1440 - val_acc: 0.9702\n",
      "Epoch 16/20\n",
      "49792/50000 [============================>.] - ETA: 0s - loss: 0.1958 - acc: 0.9515Epoch 00016: val_loss did not improve\n",
      "50000/50000 [==============================] - 14s 277us/step - loss: 0.1956 - acc: 0.9515 - val_loss: 0.1380 - val_acc: 0.9733\n",
      "Epoch 17/20\n",
      "49792/50000 [============================>.] - ETA: 0s - loss: 0.1812 - acc: 0.9531Epoch 00017: val_loss did not improve\n",
      "50000/50000 [==============================] - 14s 274us/step - loss: 0.1810 - acc: 0.9532 - val_loss: 0.1465 - val_acc: 0.9710\n",
      "Epoch 18/20\n",
      "49792/50000 [============================>.] - ETA: 0s - loss: 0.1930 - acc: 0.9510Epoch 00018: val_loss did not improve\n",
      "50000/50000 [==============================] - 14s 274us/step - loss: 0.1926 - acc: 0.9511 - val_loss: 0.1327 - val_acc: 0.9723\n",
      "Epoch 19/20\n",
      "49792/50000 [============================>.] - ETA: 0s - loss: 0.1826 - acc: 0.9543Epoch 00019: val_loss did not improve\n",
      "50000/50000 [==============================] - 14s 278us/step - loss: 0.1824 - acc: 0.9544 - val_loss: 0.1471 - val_acc: 0.9699\n",
      "Epoch 20/20\n",
      "49920/50000 [============================>.] - ETA: 0s - loss: 0.1815 - acc: 0.9547Epoch 00020: val_loss did not improve\n",
      "50000/50000 [==============================] - 14s 279us/step - loss: 0.1815 - acc: 0.9548 - val_loss: 0.1496 - val_acc: 0.9708\n"
     ]
    }
   ],
   "source": [
    "model.compile(loss='categorical_crossentropy',\n",
    "              optimizer=Adam(lr=0.01),\n",
    "              metrics=['accuracy'])\n",
    "csv_logger = CSVLogger('Results_0.01_model256'+'.csv')\n",
    "model_checkpoint = ModelCheckpoint('Checkpoint_0.01_model256'+'.hdf5',monitor = 'val_loss',\n",
    "                                    verbose = 1, save_best_only = True)\n",
    "history = model.fit(X_train, Y_train,\n",
    "                    batch_size = batch_size, nb_epoch = num_iterations,\n",
    "                    verbose = 1, validation_data = (X_validation, Y_validation),callbacks=[csv_logger,model_checkpoint])\n",
    "score = model.evaluate(X_validation, Y_validation, verbose = 0)"
   ]
  },
  {
   "cell_type": "code",
   "execution_count": 136,
   "metadata": {},
   "outputs": [],
   "source": [
    "model2 = Sequential()\n",
    "model2.add(Dense(600, input_shape=(784,)))\n",
    "model2.add(Activation('relu'))\n",
    "model2.add(Dropout(0.5))\n",
    "model2.add(Dense(10))\n",
    "model2.add(Activation('softmax'))"
   ]
  },
  {
   "cell_type": "code",
   "execution_count": 137,
   "metadata": {},
   "outputs": [
    {
     "name": "stdout",
     "output_type": "stream",
     "text": [
      "Train on 50000 samples, validate on 10000 samples\n",
      "Epoch 1/20\n",
      "49920/50000 [============================>.] - ETA: 0s - loss: 0.3623 - acc: 0.8915Epoch 00001: val_loss improved from inf to 0.15711, saving model to Checkpoint_0.01_model600.hdf5\n",
      "50000/50000 [==============================] - 24s 472us/step - loss: 0.3622 - acc: 0.8915 - val_loss: 0.1571 - val_acc: 0.9508\n",
      "Epoch 2/20\n",
      "49920/50000 [============================>.] - ETA: 0s - loss: 0.2598 - acc: 0.9248Epoch 00002: val_loss improved from 0.15711 to 0.13564, saving model to Checkpoint_0.01_model600.hdf5\n",
      "50000/50000 [==============================] - 25s 505us/step - loss: 0.2598 - acc: 0.9248 - val_loss: 0.1356 - val_acc: 0.9627\n",
      "Epoch 3/20\n",
      "49920/50000 [============================>.] - ETA: 0s - loss: 0.2426 - acc: 0.9330Epoch 00003: val_loss improved from 0.13564 to 0.12495, saving model to Checkpoint_0.01_model600.hdf5\n",
      "50000/50000 [==============================] - 31s 614us/step - loss: 0.2429 - acc: 0.9330 - val_loss: 0.1249 - val_acc: 0.9659\n",
      "Epoch 4/20\n",
      "49920/50000 [============================>.] - ETA: 0s - loss: 0.2272 - acc: 0.9377Epoch 00004: val_loss improved from 0.12495 to 0.12473, saving model to Checkpoint_0.01_model600.hdf5\n",
      "50000/50000 [==============================] - 30s 609us/step - loss: 0.2276 - acc: 0.9377 - val_loss: 0.1247 - val_acc: 0.9668\n",
      "Epoch 5/20\n",
      "49920/50000 [============================>.] - ETA: 0s - loss: 0.2133 - acc: 0.9412Epoch 00005: val_loss did not improve\n",
      "50000/50000 [==============================] - 31s 619us/step - loss: 0.2131 - acc: 0.9413 - val_loss: 0.1387 - val_acc: 0.9669\n",
      "Epoch 6/20\n",
      "49920/50000 [============================>.] - ETA: 0s - loss: 0.2244 - acc: 0.9405Epoch 00006: val_loss did not improve\n",
      "50000/50000 [==============================] - 31s 623us/step - loss: 0.2243 - acc: 0.9405 - val_loss: 0.1253 - val_acc: 0.9700\n",
      "Epoch 7/20\n",
      "49920/50000 [============================>.] - ETA: 0s - loss: 0.2204 - acc: 0.9436Epoch 00007: val_loss did not improve\n",
      "50000/50000 [==============================] - 31s 619us/step - loss: 0.2203 - acc: 0.9436 - val_loss: 0.1331 - val_acc: 0.9675\n",
      "Epoch 8/20\n",
      "49920/50000 [============================>.] - ETA: 0s - loss: 0.2143 - acc: 0.9447Epoch 00008: val_loss did not improve\n",
      "50000/50000 [==============================] - 32s 631us/step - loss: 0.2143 - acc: 0.9448 - val_loss: 0.1302 - val_acc: 0.9709\n",
      "Epoch 9/20\n",
      "49920/50000 [============================>.] - ETA: 0s - loss: 0.2092 - acc: 0.9463Epoch 00009: val_loss did not improve\n",
      "50000/50000 [==============================] - 31s 629us/step - loss: 0.2098 - acc: 0.9462 - val_loss: 0.1322 - val_acc: 0.9713\n",
      "Epoch 10/20\n",
      "49920/50000 [============================>.] - ETA: 0s - loss: 0.2033 - acc: 0.9494Epoch 00010: val_loss did not improve\n",
      "50000/50000 [==============================] - 32s 636us/step - loss: 0.2036 - acc: 0.9494 - val_loss: 0.1278 - val_acc: 0.9722\n",
      "Epoch 11/20\n",
      "49920/50000 [============================>.] - ETA: 0s - loss: 0.2045 - acc: 0.9502Epoch 00011: val_loss did not improve\n",
      "50000/50000 [==============================] - 32s 640us/step - loss: 0.2046 - acc: 0.9502 - val_loss: 0.1350 - val_acc: 0.9709\n",
      "Epoch 12/20\n",
      "49920/50000 [============================>.] - ETA: 0s - loss: 0.1982 - acc: 0.9506Epoch 00012: val_loss did not improve\n",
      "50000/50000 [==============================] - 33s 662us/step - loss: 0.1984 - acc: 0.9505 - val_loss: 0.1556 - val_acc: 0.9707\n",
      "Epoch 13/20\n",
      "49920/50000 [============================>.] - ETA: 0s - loss: 0.1971 - acc: 0.9539Epoch 00013: val_loss did not improve\n",
      "50000/50000 [==============================] - 33s 655us/step - loss: 0.1969 - acc: 0.9540 - val_loss: 0.1365 - val_acc: 0.9740\n",
      "Epoch 14/20\n",
      "49920/50000 [============================>.] - ETA: 0s - loss: 0.1963 - acc: 0.9515Epoch 00014: val_loss did not improve\n",
      "50000/50000 [==============================] - 33s 651us/step - loss: 0.1963 - acc: 0.9515 - val_loss: 0.1319 - val_acc: 0.9718\n",
      "Epoch 15/20\n",
      "49920/50000 [============================>.] - ETA: 0s - loss: 0.1986 - acc: 0.9525Epoch 00015: val_loss did not improve\n",
      "50000/50000 [==============================] - 33s 660us/step - loss: 0.1986 - acc: 0.9525 - val_loss: 0.1505 - val_acc: 0.9703\n",
      "Epoch 16/20\n",
      "49920/50000 [============================>.] - ETA: 0s - loss: 0.1878 - acc: 0.9561Epoch 00016: val_loss did not improve\n",
      "50000/50000 [==============================] - 33s 664us/step - loss: 0.1876 - acc: 0.9562 - val_loss: 0.1508 - val_acc: 0.9724\n",
      "Epoch 17/20\n",
      "49920/50000 [============================>.] - ETA: 0s - loss: 0.1992 - acc: 0.9544Epoch 00017: val_loss did not improve\n",
      "50000/50000 [==============================] - 33s 663us/step - loss: 0.1992 - acc: 0.9544 - val_loss: 0.1527 - val_acc: 0.9718\n",
      "Epoch 18/20\n",
      "49920/50000 [============================>.] - ETA: 0s - loss: 0.1847 - acc: 0.9578Epoch 00018: val_loss did not improve\n",
      "50000/50000 [==============================] - 33s 658us/step - loss: 0.1849 - acc: 0.9577 - val_loss: 0.1509 - val_acc: 0.9725\n",
      "Epoch 19/20\n",
      "49920/50000 [============================>.] - ETA: 0s - loss: 0.1746 - acc: 0.9603Epoch 00019: val_loss did not improve\n",
      "50000/50000 [==============================] - 34s 677us/step - loss: 0.1746 - acc: 0.9603 - val_loss: 0.1452 - val_acc: 0.9739\n",
      "Epoch 20/20\n",
      "49920/50000 [============================>.] - ETA: 0s - loss: 0.1940 - acc: 0.9575Epoch 00020: val_loss did not improve\n",
      "50000/50000 [==============================] - 34s 683us/step - loss: 0.1940 - acc: 0.9575 - val_loss: 0.1618 - val_acc: 0.9705\n"
     ]
    }
   ],
   "source": [
    "model2.compile(loss='categorical_crossentropy',\n",
    "              optimizer=Adam(lr=0.01),\n",
    "              metrics=['accuracy'])\n",
    "csv_logger = CSVLogger('Results_0.01_model600'+'.csv')\n",
    "model_checkpoint = ModelCheckpoint('Checkpoint_0.01_model600'+'.hdf5',monitor = 'val_loss',\n",
    "                                    verbose = 1, save_best_only = True)\n",
    "history = model2.fit(X_train, Y_train,\n",
    "                    batch_size = batch_size, nb_epoch = num_iterations,\n",
    "                    verbose = 1, validation_data = (X_validation, Y_validation),callbacks=[csv_logger,model_checkpoint])\n",
    "score2 = model2.evaluate(X_validation, Y_validation, verbose = 0)"
   ]
  },
  {
   "cell_type": "code",
   "execution_count": 138,
   "metadata": {},
   "outputs": [],
   "source": [
    "model3 = Sequential()\n",
    "model3.add(Dense(800, input_shape=(784,)))\n",
    "model3.add(Activation('relu'))\n",
    "model3.add(Dropout(0.5))\n",
    "model3.add(Dense(10))\n",
    "model3.add(Activation('softmax'))"
   ]
  },
  {
   "cell_type": "code",
   "execution_count": 139,
   "metadata": {},
   "outputs": [
    {
     "name": "stdout",
     "output_type": "stream",
     "text": [
      "Train on 50000 samples, validate on 10000 samples\n",
      "Epoch 1/20\n",
      "49920/50000 [============================>.] - ETA: 0s - loss: 0.3570 - acc: 0.8945Epoch 00001: val_loss improved from inf to 0.14343, saving model to Checkpoint_0.01_model800.hdf5\n",
      "50000/50000 [==============================] - 32s 638us/step - loss: 0.3566 - acc: 0.8946 - val_loss: 0.1434 - val_acc: 0.9582\n",
      "Epoch 2/20\n",
      "49920/50000 [============================>.] - ETA: 0s - loss: 0.2574 - acc: 0.9253Epoch 00002: val_loss improved from 0.14343 to 0.12784, saving model to Checkpoint_0.01_model800.hdf5\n",
      "50000/50000 [==============================] - 34s 684us/step - loss: 0.2572 - acc: 0.9254 - val_loss: 0.1278 - val_acc: 0.9622\n",
      "Epoch 3/20\n",
      "49920/50000 [============================>.] - ETA: 0s - loss: 0.2443 - acc: 0.9309Epoch 00003: val_loss improved from 0.12784 to 0.12541, saving model to Checkpoint_0.01_model800.hdf5\n",
      "50000/50000 [==============================] - 41s 823us/step - loss: 0.2442 - acc: 0.9309 - val_loss: 0.1254 - val_acc: 0.9660\n",
      "Epoch 4/20\n",
      "49920/50000 [============================>.] - ETA: 0s - loss: 0.2267 - acc: 0.9374Epoch 00004: val_loss improved from 0.12541 to 0.11848, saving model to Checkpoint_0.01_model800.hdf5\n",
      "50000/50000 [==============================] - 41s 813us/step - loss: 0.2266 - acc: 0.9375 - val_loss: 0.1185 - val_acc: 0.9688\n",
      "Epoch 5/20\n",
      "49920/50000 [============================>.] - ETA: 0s - loss: 0.2267 - acc: 0.9385- ETA: 2s - loEpoch 00005: val_loss did not improve\n",
      "50000/50000 [==============================] - 41s 826us/step - loss: 0.2270 - acc: 0.9385 - val_loss: 0.1256 - val_acc: 0.9686\n",
      "Epoch 6/20\n",
      "49920/50000 [============================>.] - ETA: 0s - loss: 0.2206 - acc: 0.9412- ETA: 2s - loss: Epoch 00006: val_loss did not improve\n",
      "50000/50000 [==============================] - 42s 841us/step - loss: 0.2204 - acc: 0.9412 - val_loss: 0.1360 - val_acc: 0.9659\n",
      "Epoch 7/20\n",
      "49920/50000 [============================>.] - ETA: 0s - loss: 0.2118 - acc: 0.9449Epoch 00007: val_loss did not improve\n",
      "50000/50000 [==============================] - 42s 839us/step - loss: 0.2119 - acc: 0.9449 - val_loss: 0.1268 - val_acc: 0.9708\n",
      "Epoch 8/20\n",
      "49920/50000 [============================>.] - ETA: 0s - loss: 0.2026 - acc: 0.9468Epoch 00008: val_loss did not improve\n",
      "50000/50000 [==============================] - 42s 834us/step - loss: 0.2028 - acc: 0.9469 - val_loss: 0.1228 - val_acc: 0.9706\n",
      "Epoch 9/20\n",
      "49920/50000 [============================>.] - ETA: 0s - loss: 0.1986 - acc: 0.9504Epoch 00009: val_loss did not improve\n",
      "50000/50000 [==============================] - 44s 885us/step - loss: 0.1987 - acc: 0.9503 - val_loss: 0.1387 - val_acc: 0.9701\n",
      "Epoch 10/20\n",
      "49920/50000 [============================>.] - ETA: 0s - loss: 0.2076 - acc: 0.9491- ETAEpoch 00010: val_loss did not improve\n",
      "50000/50000 [==============================] - 43s 867us/step - loss: 0.2076 - acc: 0.9491 - val_loss: 0.1360 - val_acc: 0.9701\n",
      "Epoch 11/20\n",
      "49920/50000 [============================>.] - ETA: 0s - loss: 0.1961 - acc: 0.9524Epoch 00011: val_loss did not improve\n",
      "50000/50000 [==============================] - 44s 871us/step - loss: 0.1964 - acc: 0.9523 - val_loss: 0.1434 - val_acc: 0.9715\n",
      "Epoch 12/20\n",
      "49920/50000 [============================>.] - ETA: 0s - loss: 0.1985 - acc: 0.9512Epoch 00012: val_loss did not improve\n",
      "50000/50000 [==============================] - 43s 853us/step - loss: 0.1983 - acc: 0.9513 - val_loss: 0.1336 - val_acc: 0.9726\n",
      "Epoch 13/20\n",
      "49920/50000 [============================>.] - ETA: 0s - loss: 0.1991 - acc: 0.9524Epoch 00013: val_loss did not improve\n",
      "50000/50000 [==============================] - 43s 862us/step - loss: 0.1989 - acc: 0.9524 - val_loss: 0.1464 - val_acc: 0.9718\n",
      "Epoch 14/20\n",
      "49920/50000 [============================>.] - ETA: 0s - loss: 0.1953 - acc: 0.9535Epoch 00014: val_loss did not improve\n",
      "50000/50000 [==============================] - 43s 851us/step - loss: 0.1951 - acc: 0.9535 - val_loss: 0.1446 - val_acc: 0.9712\n",
      "Epoch 15/20\n",
      "49920/50000 [============================>.] - ETA: 0s - loss: 0.1881 - acc: 0.9566Epoch 00015: val_loss did not improve\n",
      "50000/50000 [==============================] - 43s 852us/step - loss: 0.1883 - acc: 0.9566 - val_loss: 0.1515 - val_acc: 0.9700\n",
      "Epoch 16/20\n",
      "49920/50000 [============================>.] - ETA: 0s - loss: 0.1833 - acc: 0.9556Epoch 00016: val_loss did not improve\n",
      "50000/50000 [==============================] - 42s 849us/step - loss: 0.1833 - acc: 0.9556 - val_loss: 0.1360 - val_acc: 0.9718\n",
      "Epoch 17/20\n",
      "49920/50000 [============================>.] - ETA: 0s - loss: 0.1849 - acc: 0.9572Epoch 00017: val_loss did not improve\n",
      "50000/50000 [==============================] - 43s 852us/step - loss: 0.1850 - acc: 0.9572 - val_loss: 0.1338 - val_acc: 0.9720\n",
      "Epoch 18/20\n",
      "49920/50000 [============================>.] - ETA: 0s - loss: 0.1945 - acc: 0.9565Epoch 00018: val_loss did not improve\n",
      "50000/50000 [==============================] - 44s 880us/step - loss: 0.1944 - acc: 0.9565 - val_loss: 0.1435 - val_acc: 0.9722\n",
      "Epoch 19/20\n",
      "49920/50000 [============================>.] - ETA: 0s - loss: 0.1846 - acc: 0.9573Epoch 00019: val_loss did not improve\n",
      "50000/50000 [==============================] - 45s 908us/step - loss: 0.1845 - acc: 0.9574 - val_loss: 0.1514 - val_acc: 0.9736\n",
      "Epoch 20/20\n",
      "49920/50000 [============================>.] - ETA: 0s - loss: 0.1878 - acc: 0.9587Epoch 00020: val_loss did not improve\n",
      "50000/50000 [==============================] - 47s 935us/step - loss: 0.1876 - acc: 0.9588 - val_loss: 0.1604 - val_acc: 0.9707\n"
     ]
    }
   ],
   "source": [
    "model3.compile(loss='categorical_crossentropy',\n",
    "              optimizer=Adam(lr=0.01),\n",
    "              metrics=['accuracy'])\n",
    "csv_logger = CSVLogger('Results_0.01_model800'+'.csv')\n",
    "model_checkpoint = ModelCheckpoint('Checkpoint_0.01_model800'+'.hdf5',monitor = 'val_loss',\n",
    "                                    verbose = 1, save_best_only = True)\n",
    "history3 = model3.fit(X_train, Y_train,\n",
    "                    batch_size = batch_size, nb_epoch = num_iterations,\n",
    "                    verbose = 1, validation_data = (X_validation, Y_validation),callbacks=[csv_logger,model_checkpoint])\n",
    "score3 = model3.evaluate(X_validation, Y_validation, verbose = 0)"
   ]
  },
  {
   "cell_type": "code",
   "execution_count": 140,
   "metadata": {},
   "outputs": [
    {
     "name": "stdout",
     "output_type": "stream",
     "text": [
      "Train on 50000 samples, validate on 10000 samples\n",
      "Epoch 1/20\n",
      "49792/50000 [============================>.] - ETA: 0s - loss: 0.1228 - acc: 0.9692- ETA: 1s - lossEpoch 00001: val_loss improved from inf to 0.13362, saving model to Checkpoint_0.001_model256.hdf5\n",
      "50000/50000 [==============================] - 13s 250us/step - loss: 0.1227 - acc: 0.9692 - val_loss: 0.1336 - val_acc: 0.9752\n",
      "Epoch 2/20\n",
      "49792/50000 [============================>.] - ETA: 0s - loss: 0.1005 - acc: 0.9745Epoch 00002: val_loss improved from 0.13362 to 0.13084, saving model to Checkpoint_0.001_model256.hdf5\n",
      "50000/50000 [==============================] - 12s 235us/step - loss: 0.1005 - acc: 0.9745 - val_loss: 0.1308 - val_acc: 0.9756\n",
      "Epoch 3/20\n",
      "49920/50000 [============================>.] - ETA: 0s - loss: 0.0938 - acc: 0.9751Epoch 00003: val_loss improved from 0.13084 to 0.12866, saving model to Checkpoint_0.001_model256.hdf5\n",
      "50000/50000 [==============================] - 12s 247us/step - loss: 0.0938 - acc: 0.9751 - val_loss: 0.1287 - val_acc: 0.9760\n",
      "Epoch 4/20\n",
      "49920/50000 [============================>.] - ETA: 0s - loss: 0.0849 - acc: 0.9773Epoch 00004: val_loss improved from 0.12866 to 0.12614, saving model to Checkpoint_0.001_model256.hdf5\n",
      "50000/50000 [==============================] - 13s 258us/step - loss: 0.0848 - acc: 0.9773 - val_loss: 0.1261 - val_acc: 0.9761\n",
      "Epoch 5/20\n",
      "49792/50000 [============================>.] - ETA: 0s - loss: 0.0808 - acc: 0.9770Epoch 00005: val_loss did not improve\n",
      "50000/50000 [==============================] - 12s 234us/step - loss: 0.0811 - acc: 0.9769 - val_loss: 0.1264 - val_acc: 0.9768\n",
      "Epoch 6/20\n",
      "49792/50000 [============================>.] - ETA: 0s - loss: 0.0766 - acc: 0.9788Epoch 00006: val_loss did not improve\n",
      "50000/50000 [==============================] - 12s 231us/step - loss: 0.0767 - acc: 0.9788 - val_loss: 0.1263 - val_acc: 0.9769\n",
      "Epoch 7/20\n",
      "49792/50000 [============================>.] - ETA: 0s - loss: 0.0738 - acc: 0.9797Epoch 00007: val_loss improved from 0.12614 to 0.12509, saving model to Checkpoint_0.001_model256.hdf5\n",
      "50000/50000 [==============================] - 12s 233us/step - loss: 0.0738 - acc: 0.9797 - val_loss: 0.1251 - val_acc: 0.9760\n",
      "Epoch 8/20\n",
      "49792/50000 [============================>.] - ETA: 0s - loss: 0.0709 - acc: 0.9803Epoch 00008: val_loss improved from 0.12509 to 0.12293, saving model to Checkpoint_0.001_model256.hdf5\n",
      "50000/50000 [==============================] - 12s 238us/step - loss: 0.0707 - acc: 0.9804 - val_loss: 0.1229 - val_acc: 0.9770\n",
      "Epoch 9/20\n",
      "49792/50000 [============================>.] - ETA: 0s - loss: 0.0689 - acc: 0.9797Epoch 00009: val_loss did not improve\n",
      "50000/50000 [==============================] - 12s 236us/step - loss: 0.0691 - acc: 0.9796 - val_loss: 0.1238 - val_acc: 0.9763\n",
      "Epoch 10/20\n",
      "49792/50000 [============================>.] - ETA: 0s - loss: 0.0706 - acc: 0.9801Epoch 00010: val_loss did not improve\n",
      "50000/50000 [==============================] - 12s 238us/step - loss: 0.0704 - acc: 0.9802 - val_loss: 0.1242 - val_acc: 0.9768\n",
      "Epoch 11/20\n",
      "49792/50000 [============================>.] - ETA: 0s - loss: 0.0628 - acc: 0.9811Epoch 00011: val_loss did not improve\n",
      "50000/50000 [==============================] - 12s 235us/step - loss: 0.0630 - acc: 0.9810 - val_loss: 0.1251 - val_acc: 0.9765\n",
      "Epoch 12/20\n",
      "49792/50000 [============================>.] - ETA: 0s - loss: 0.0634 - acc: 0.9822Epoch 00012: val_loss improved from 0.12293 to 0.12200, saving model to Checkpoint_0.001_model256.hdf5\n",
      "50000/50000 [==============================] - 12s 242us/step - loss: 0.0631 - acc: 0.9823 - val_loss: 0.1220 - val_acc: 0.9778\n",
      "Epoch 13/20\n",
      "49792/50000 [============================>.] - ETA: 0s - loss: 0.0603 - acc: 0.9827Epoch 00013: val_loss did not improve\n",
      "50000/50000 [==============================] - 12s 237us/step - loss: 0.0602 - acc: 0.9827 - val_loss: 0.1240 - val_acc: 0.9767\n",
      "Epoch 14/20\n",
      "49792/50000 [============================>.] - ETA: 0s - loss: 0.0601 - acc: 0.9823Epoch 00014: val_loss did not improve\n",
      "50000/50000 [==============================] - 12s 234us/step - loss: 0.0602 - acc: 0.9823 - val_loss: 0.1232 - val_acc: 0.9770\n",
      "Epoch 15/20\n",
      "49920/50000 [============================>.] - ETA: 0s - loss: 0.0586 - acc: 0.9826Epoch 00015: val_loss did not improve\n",
      "50000/50000 [==============================] - 12s 248us/step - loss: 0.0587 - acc: 0.9826 - val_loss: 0.1254 - val_acc: 0.9764\n",
      "Epoch 16/20\n",
      "49920/50000 [============================>.] - ETA: 0s - loss: 0.0559 - acc: 0.9826Epoch 00016: val_loss did not improve\n",
      "50000/50000 [==============================] - 13s 253us/step - loss: 0.0558 - acc: 0.9826 - val_loss: 0.1259 - val_acc: 0.9775\n",
      "Epoch 17/20\n",
      "49920/50000 [============================>.] - ETA: 0s - loss: 0.0563 - acc: 0.9836Epoch 00017: val_loss did not improve\n",
      "50000/50000 [==============================] - 14s 273us/step - loss: 0.0563 - acc: 0.9835 - val_loss: 0.1251 - val_acc: 0.9778\n",
      "Epoch 18/20\n",
      "49792/50000 [============================>.] - ETA: 0s - loss: 0.0538 - acc: 0.9835Epoch 00018: val_loss did not improve\n",
      "50000/50000 [==============================] - 13s 253us/step - loss: 0.0540 - acc: 0.9834 - val_loss: 0.1231 - val_acc: 0.9778\n",
      "Epoch 19/20\n",
      "49792/50000 [============================>.] - ETA: 0s - loss: 0.0578 - acc: 0.9824Epoch 00019: val_loss did not improve\n",
      "50000/50000 [==============================] - 12s 247us/step - loss: 0.0578 - acc: 0.9824 - val_loss: 0.1255 - val_acc: 0.9771\n",
      "Epoch 20/20\n",
      "49792/50000 [============================>.] - ETA: 0s - loss: 0.0576 - acc: 0.9831Epoch 00020: val_loss improved from 0.12200 to 0.12187, saving model to Checkpoint_0.001_model256.hdf5\n",
      "50000/50000 [==============================] - 12s 247us/step - loss: 0.0577 - acc: 0.9831 - val_loss: 0.1219 - val_acc: 0.9774\n"
     ]
    }
   ],
   "source": [
    "model.compile(loss='categorical_crossentropy',\n",
    "              optimizer=Adam(lr=0.001),\n",
    "              metrics=['accuracy'])\n",
    "csv_logger = CSVLogger('Results_0.001_model256'+'.csv')\n",
    "model_checkpoint = ModelCheckpoint('Checkpoint_0.001_model256'+'.hdf5',monitor = 'val_loss',\n",
    "                                    verbose = 1, save_best_only = True)\n",
    "history = model.fit(X_train, Y_train,\n",
    "                    batch_size = batch_size, nb_epoch = num_iterations,\n",
    "                    verbose = 1, validation_data = (X_validation, Y_validation),callbacks=[csv_logger,model_checkpoint])\n",
    "score = model.evaluate(X_validation, Y_validation, verbose = 0)"
   ]
  },
  {
   "cell_type": "code",
   "execution_count": 141,
   "metadata": {},
   "outputs": [
    {
     "name": "stdout",
     "output_type": "stream",
     "text": [
      "Train on 50000 samples, validate on 10000 samples\n",
      "Epoch 1/20\n",
      "49920/50000 [============================>.] - ETA: 0s - loss: 0.1405 - acc: 0.9672Epoch 00001: val_loss improved from inf to 0.12915, saving model to Checkpoint_0.001_model600.hdf5\n",
      "50000/50000 [==============================] - 23s 465us/step - loss: 0.1403 - acc: 0.9673 - val_loss: 0.1292 - val_acc: 0.9779\n",
      "Epoch 2/20\n",
      "49920/50000 [============================>.] - ETA: 0s - loss: 0.1071 - acc: 0.9742Epoch 00002: val_loss improved from 0.12915 to 0.12606, saving model to Checkpoint_0.001_model600.hdf5\n",
      "50000/50000 [==============================] - 24s 479us/step - loss: 0.1071 - acc: 0.9742 - val_loss: 0.1261 - val_acc: 0.9787\n",
      "Epoch 3/20\n",
      "49920/50000 [============================>.] - ETA: 0s - loss: 0.0945 - acc: 0.9773Epoch 00003: val_loss improved from 0.12606 to 0.12480, saving model to Checkpoint_0.001_model600.hdf5\n",
      "50000/50000 [==============================] - 24s 479us/step - loss: 0.0944 - acc: 0.9773 - val_loss: 0.1248 - val_acc: 0.9797\n",
      "Epoch 4/20\n",
      "49920/50000 [============================>.] - ETA: 0s - loss: 0.0852 - acc: 0.9779Epoch 00004: val_loss improved from 0.12480 to 0.12393, saving model to Checkpoint_0.001_model600.hdf5\n",
      "50000/50000 [==============================] - 24s 486us/step - loss: 0.0853 - acc: 0.9779 - val_loss: 0.1239 - val_acc: 0.9797\n",
      "Epoch 5/20\n",
      "49920/50000 [============================>.] - ETA: 0s - loss: 0.0792 - acc: 0.9796Epoch 00005: val_loss improved from 0.12393 to 0.12271, saving model to Checkpoint_0.001_model600.hdf5\n",
      "50000/50000 [==============================] - 25s 491us/step - loss: 0.0790 - acc: 0.9797 - val_loss: 0.1227 - val_acc: 0.9796\n",
      "Epoch 6/20\n",
      "49920/50000 [============================>.] - ETA: 0s - loss: 0.0782 - acc: 0.9804Epoch 00006: val_loss did not improve\n",
      "50000/50000 [==============================] - 24s 487us/step - loss: 0.0783 - acc: 0.9804 - val_loss: 0.1260 - val_acc: 0.9788\n",
      "Epoch 7/20\n",
      "49920/50000 [============================>.] - ETA: 0s - loss: 0.0701 - acc: 0.9812Epoch 00007: val_loss did not improve\n",
      "50000/50000 [==============================] - 24s 481us/step - loss: 0.0700 - acc: 0.9812 - val_loss: 0.1265 - val_acc: 0.9791\n",
      "Epoch 8/20\n",
      "49920/50000 [============================>.] - ETA: 0s - loss: 0.0703 - acc: 0.9814Epoch 00008: val_loss did not improve\n",
      "50000/50000 [==============================] - 25s 495us/step - loss: 0.0703 - acc: 0.9814 - val_loss: 0.1267 - val_acc: 0.9788\n",
      "Epoch 9/20\n",
      "49920/50000 [============================>.] - ETA: 0s - loss: 0.0667 - acc: 0.9825Epoch 00009: val_loss did not improve\n",
      "50000/50000 [==============================] - 25s 494us/step - loss: 0.0666 - acc: 0.9825 - val_loss: 0.1244 - val_acc: 0.9789\n",
      "Epoch 10/20\n",
      "49920/50000 [============================>.] - ETA: 0s - loss: 0.0653 - acc: 0.9830Epoch 00010: val_loss did not improve\n",
      "50000/50000 [==============================] - 25s 492us/step - loss: 0.0653 - acc: 0.9829 - val_loss: 0.1282 - val_acc: 0.9788\n",
      "Epoch 11/20\n",
      "49920/50000 [============================>.] - ETA: 0s - loss: 0.0635 - acc: 0.9830Epoch 00011: val_loss did not improve\n",
      "50000/50000 [==============================] - 25s 492us/step - loss: 0.0635 - acc: 0.9830 - val_loss: 0.1263 - val_acc: 0.9787\n",
      "Epoch 12/20\n",
      "49920/50000 [============================>.] - ETA: 0s - loss: 0.0660 - acc: 0.9818Epoch 00012: val_loss did not improve\n",
      "50000/50000 [==============================] - 25s 495us/step - loss: 0.0659 - acc: 0.9818 - val_loss: 0.1248 - val_acc: 0.9790\n",
      "Epoch 13/20\n",
      "49920/50000 [============================>.] - ETA: 0s - loss: 0.0594 - acc: 0.9839Epoch 00013: val_loss did not improve\n",
      "50000/50000 [==============================] - 24s 488us/step - loss: 0.0593 - acc: 0.9839 - val_loss: 0.1266 - val_acc: 0.9793\n",
      "Epoch 14/20\n",
      "49920/50000 [============================>.] - ETA: 0s - loss: 0.0541 - acc: 0.9852Epoch 00014: val_loss did not improve\n",
      "50000/50000 [==============================] - 25s 499us/step - loss: 0.0540 - acc: 0.9852 - val_loss: 0.1255 - val_acc: 0.9802\n",
      "Epoch 15/20\n",
      "49920/50000 [============================>.] - ETA: 0s - loss: 0.0578 - acc: 0.9841Epoch 00015: val_loss did not improve\n",
      "50000/50000 [==============================] - 26s 515us/step - loss: 0.0579 - acc: 0.9841 - val_loss: 0.1264 - val_acc: 0.9796\n",
      "Epoch 16/20\n",
      "49920/50000 [============================>.] - ETA: 0s - loss: 0.0584 - acc: 0.9844Epoch 00016: val_loss did not improve\n",
      "50000/50000 [==============================] - 25s 502us/step - loss: 0.0583 - acc: 0.9845 - val_loss: 0.1235 - val_acc: 0.9797\n",
      "Epoch 17/20\n",
      "49920/50000 [============================>.] - ETA: 0s - loss: 0.0530 - acc: 0.9856Epoch 00017: val_loss did not improve\n",
      "50000/50000 [==============================] - 25s 503us/step - loss: 0.0530 - acc: 0.9857 - val_loss: 0.1273 - val_acc: 0.9791\n",
      "Epoch 18/20\n",
      "49920/50000 [============================>.] - ETA: 0s - loss: 0.0529 - acc: 0.9854Epoch 00018: val_loss did not improve\n",
      "50000/50000 [==============================] - 25s 500us/step - loss: 0.0530 - acc: 0.9854 - val_loss: 0.1296 - val_acc: 0.9786\n",
      "Epoch 19/20\n",
      "49920/50000 [============================>.] - ETA: 0s - loss: 0.0496 - acc: 0.9866Epoch 00019: val_loss did not improve\n",
      "50000/50000 [==============================] - 26s 519us/step - loss: 0.0495 - acc: 0.9866 - val_loss: 0.1272 - val_acc: 0.9794\n",
      "Epoch 20/20\n",
      "49920/50000 [============================>.] - ETA: 0s - loss: 0.0512 - acc: 0.9859Epoch 00020: val_loss did not improve\n",
      "50000/50000 [==============================] - 25s 505us/step - loss: 0.0511 - acc: 0.9859 - val_loss: 0.1245 - val_acc: 0.9799\n"
     ]
    }
   ],
   "source": [
    "model2.compile(loss='categorical_crossentropy',\n",
    "              optimizer=Adam(lr=0.001),\n",
    "              metrics=['accuracy'])\n",
    "csv_logger = CSVLogger('Results_0.001_model600'+'.csv')\n",
    "model_checkpoint = ModelCheckpoint('Checkpoint_0.001_model600'+'.hdf5',monitor = 'val_loss',\n",
    "                                    verbose = 1, save_best_only = True)\n",
    "history = model2.fit(X_train, Y_train,\n",
    "                    batch_size = batch_size, nb_epoch = num_iterations,\n",
    "                    verbose = 1, validation_data = (X_validation, Y_validation),callbacks=[csv_logger,model_checkpoint])\n",
    "score2 = model2.evaluate(X_validation, Y_validation, verbose = 0)"
   ]
  },
  {
   "cell_type": "code",
   "execution_count": 142,
   "metadata": {},
   "outputs": [
    {
     "name": "stdout",
     "output_type": "stream",
     "text": [
      "Train on 50000 samples, validate on 10000 samples\n",
      "Epoch 1/20\n",
      "49920/50000 [============================>.] - ETA: 0s - loss: 0.1389 - acc: 0.9694Epoch 00001: val_loss improved from inf to 0.13390, saving model to Checkpoint_0.001_model800.hdf5\n",
      "50000/50000 [==============================] - 31s 619us/step - loss: 0.1390 - acc: 0.9694 - val_loss: 0.1339 - val_acc: 0.9771\n",
      "Epoch 2/20\n",
      "49920/50000 [============================>.] - ETA: 0s - loss: 0.1033 - acc: 0.9751Epoch 00002: val_loss improved from 0.13390 to 0.13041, saving model to Checkpoint_0.001_model800.hdf5\n",
      "50000/50000 [==============================] - 31s 621us/step - loss: 0.1032 - acc: 0.9751 - val_loss: 0.1304 - val_acc: 0.9775\n",
      "Epoch 3/20\n",
      "49920/50000 [============================>.] - ETA: 0s - loss: 0.0958 - acc: 0.9769Epoch 00003: val_loss improved from 0.13041 to 0.12830, saving model to Checkpoint_0.001_model800.hdf5\n",
      "50000/50000 [==============================] - 31s 623us/step - loss: 0.0957 - acc: 0.9769 - val_loss: 0.1283 - val_acc: 0.9783\n",
      "Epoch 4/20\n",
      "49920/50000 [============================>.] - ETA: 0s - loss: 0.0834 - acc: 0.9788Epoch 00004: val_loss improved from 0.12830 to 0.12559, saving model to Checkpoint_0.001_model800.hdf5\n",
      "50000/50000 [==============================] - 32s 635us/step - loss: 0.0835 - acc: 0.9788 - val_loss: 0.1256 - val_acc: 0.9778\n",
      "Epoch 5/20\n",
      "49920/50000 [============================>.] - ETA: 0s - loss: 0.0805 - acc: 0.9794Epoch 00005: val_loss improved from 0.12559 to 0.12122, saving model to Checkpoint_0.001_model800.hdf5\n",
      "50000/50000 [==============================] - 32s 638us/step - loss: 0.0804 - acc: 0.9794 - val_loss: 0.1212 - val_acc: 0.9784\n",
      "Epoch 6/20\n",
      "49920/50000 [============================>.] - ETA: 0s - loss: 0.0780 - acc: 0.9800Epoch 00006: val_loss improved from 0.12122 to 0.11984, saving model to Checkpoint_0.001_model800.hdf5\n",
      "50000/50000 [==============================] - 33s 651us/step - loss: 0.0780 - acc: 0.9801 - val_loss: 0.1198 - val_acc: 0.9785\n",
      "Epoch 7/20\n",
      "49920/50000 [============================>.] - ETA: 0s - loss: 0.0722 - acc: 0.9816Epoch 00007: val_loss did not improve\n",
      "50000/50000 [==============================] - 33s 655us/step - loss: 0.0721 - acc: 0.9816 - val_loss: 0.1200 - val_acc: 0.9796\n",
      "Epoch 8/20\n",
      "49920/50000 [============================>.] - ETA: 0s - loss: 0.0721 - acc: 0.9814Epoch 00008: val_loss improved from 0.11984 to 0.11862, saving model to Checkpoint_0.001_model800.hdf5\n",
      "50000/50000 [==============================] - 32s 647us/step - loss: 0.0722 - acc: 0.9813 - val_loss: 0.1186 - val_acc: 0.9792\n",
      "Epoch 9/20\n",
      "49920/50000 [============================>.] - ETA: 0s - loss: 0.0621 - acc: 0.9834Epoch 00009: val_loss did not improve\n",
      "50000/50000 [==============================] - 32s 638us/step - loss: 0.0621 - acc: 0.9834 - val_loss: 0.1218 - val_acc: 0.9785\n",
      "Epoch 10/20\n",
      "49920/50000 [============================>.] - ETA: 0s - loss: 0.0645 - acc: 0.9835Epoch 00010: val_loss improved from 0.11862 to 0.11850, saving model to Checkpoint_0.001_model800.hdf5\n",
      "50000/50000 [==============================] - 32s 648us/step - loss: 0.0645 - acc: 0.9834 - val_loss: 0.1185 - val_acc: 0.9791\n",
      "Epoch 11/20\n",
      "49920/50000 [============================>.] - ETA: 0s - loss: 0.0624 - acc: 0.9837Epoch 00011: val_loss did not improve\n",
      "50000/50000 [==============================] - 33s 656us/step - loss: 0.0623 - acc: 0.9837 - val_loss: 0.1209 - val_acc: 0.9792\n",
      "Epoch 12/20\n",
      "49920/50000 [============================>.] - ETA: 0s - loss: 0.0605 - acc: 0.9839Epoch 00012: val_loss did not improve\n",
      "50000/50000 [==============================] - 33s 658us/step - loss: 0.0605 - acc: 0.9839 - val_loss: 0.1203 - val_acc: 0.9792\n",
      "Epoch 13/20\n",
      "49920/50000 [============================>.] - ETA: 0s - loss: 0.0595 - acc: 0.9837Epoch 00013: val_loss did not improve\n",
      "50000/50000 [==============================] - 33s 656us/step - loss: 0.0598 - acc: 0.9837 - val_loss: 0.1187 - val_acc: 0.9787\n",
      "Epoch 14/20\n",
      "49920/50000 [============================>.] - ETA: 0s - loss: 0.0577 - acc: 0.9844Epoch 00014: val_loss improved from 0.11850 to 0.11782, saving model to Checkpoint_0.001_model800.hdf5\n",
      "50000/50000 [==============================] - 34s 674us/step - loss: 0.0577 - acc: 0.9843 - val_loss: 0.1178 - val_acc: 0.9796\n",
      "Epoch 15/20\n",
      "49920/50000 [============================>.] - ETA: 0s - loss: 0.0535 - acc: 0.9847Epoch 00015: val_loss did not improve\n",
      "50000/50000 [==============================] - 34s 677us/step - loss: 0.0536 - acc: 0.9847 - val_loss: 0.1185 - val_acc: 0.9798\n",
      "Epoch 16/20\n",
      "49920/50000 [============================>.] - ETA: 0s - loss: 0.0562 - acc: 0.9845Epoch 00016: val_loss did not improve\n",
      "50000/50000 [==============================] - 32s 650us/step - loss: 0.0561 - acc: 0.9845 - val_loss: 0.1182 - val_acc: 0.9786\n",
      "Epoch 17/20\n",
      "49920/50000 [============================>.] - ETA: 0s - loss: 0.0548 - acc: 0.9859Epoch 00017: val_loss did not improve\n",
      "50000/50000 [==============================] - 32s 637us/step - loss: 0.0548 - acc: 0.9859 - val_loss: 0.1181 - val_acc: 0.9791\n",
      "Epoch 18/20\n",
      "49920/50000 [============================>.] - ETA: 0s - loss: 0.0498 - acc: 0.9866Epoch 00018: val_loss improved from 0.11782 to 0.11697, saving model to Checkpoint_0.001_model800.hdf5\n",
      "50000/50000 [==============================] - 32s 642us/step - loss: 0.0501 - acc: 0.9866 - val_loss: 0.1170 - val_acc: 0.9800\n",
      "Epoch 19/20\n",
      "49920/50000 [============================>.] - ETA: 0s - loss: 0.0490 - acc: 0.9866Epoch 00019: val_loss did not improve\n",
      "50000/50000 [==============================] - 32s 644us/step - loss: 0.0491 - acc: 0.9865 - val_loss: 0.1219 - val_acc: 0.9798\n",
      "Epoch 20/20\n",
      "49920/50000 [============================>.] - ETA: 0s - loss: 0.0495 - acc: 0.9868Epoch 00020: val_loss did not improve\n",
      "50000/50000 [==============================] - 32s 639us/step - loss: 0.0495 - acc: 0.9868 - val_loss: 0.1210 - val_acc: 0.9784\n"
     ]
    }
   ],
   "source": [
    "model3.compile(loss='categorical_crossentropy',\n",
    "              optimizer=Adam(lr=0.001),\n",
    "              metrics=['accuracy'])\n",
    "csv_logger = CSVLogger('Results_0.001_model800'+'.csv')\n",
    "model_checkpoint = ModelCheckpoint('Checkpoint_0.001_model800'+'.hdf5',monitor = 'val_loss',\n",
    "                                    verbose = 1, save_best_only = True)\n",
    "history = model3.fit(X_train, Y_train,\n",
    "                    batch_size = batch_size, nb_epoch = num_iterations,\n",
    "                    verbose = 1, validation_data = (X_validation, Y_validation),callbacks=[csv_logger,model_checkpoint])\n",
    "score3 = model3.evaluate(X_validation, Y_validation, verbose = 0)"
   ]
  },
  {
   "cell_type": "code",
   "execution_count": 148,
   "metadata": {},
   "outputs": [],
   "source": [
    "import pandas as pd\n",
    "import csv\n",
    "import matplotlib.pyplot as plt"
   ]
  },
  {
   "cell_type": "code",
   "execution_count": 149,
   "metadata": {},
   "outputs": [],
   "source": [
    "lr1 = pd.read_csv('Results_0.01_model256.csv')\n",
    "lr2 = pd.read_csv('Results_0.001_model256.csv')"
   ]
  },
  {
   "cell_type": "code",
   "execution_count": 155,
   "metadata": {},
   "outputs": [],
   "source": [
    "res256 = pd.read_csv('Results_0.01_model256.csv')\n",
    "res600 = pd.read_csv('Results_0.01_model600.csv')\n",
    "res800 = pd.read_csv('Results_0.01_model800.csv')"
   ]
  },
  {
   "cell_type": "code",
   "execution_count": 156,
   "metadata": {},
   "outputs": [
    {
     "data": {
      "image/png": "[encoded data removed]",
      "text/plain": [
       "<matplotlib.figure.Figure at 0x7fd4b179ca10>"
      ]
     },
     "metadata": {},
     "output_type": "display_data"
    }
   ],
   "source": [
    "plt.title('Varying learning rates')\n",
    "plt.xlabel('Number of epochs')\n",
    "plt.ylabel('Validation accuracy')\n",
    "plt.plot(lr1['epoch'],lr1['val_acc'],color='red',label='lr0.01')\n",
    "plt.plot(lr2['epoch'],lr2['val_acc'],color='green',label='lr0.001')\n",
    "plt.legend()\n",
    "plt.savefig('Varying learning rates')\n",
    "plt.show()"
   ]
  },
  {
   "cell_type": "code",
   "execution_count": 157,
   "metadata": {},
   "outputs": [],
   "source": [
    "plt.title('Varying Number of neurons in hidden layer')\n",
    "plt.xlabel('Number of epochs')\n",
    "plt.ylabel('Validation accuracy')\n",
    "plt.plot(res256['epoch'],res256['val_acc'],color='red',label='256')\n",
    "plt.plot(res600['epoch'],res600['val_acc'],color='green',label='600')\n",
    "plt.plot(res800['epoch'],res800['val_acc'],color='blue',label='800')\n",
    "plt.legend()\n",
    "plt.savefig('Varying Number of neurons in hidden layer')"
   ]
  },
  {
   "cell_type": "code",
   "execution_count": 158,
   "metadata": {},
   "outputs": [
    {
     "data": {
      "image/png": "[encoded data removed]",
      "text/plain": [
       "<matplotlib.figure.Figure at 0x7fd4a9ae5450>"
      ]
     },
     "metadata": {},
     "output_type": "display_data"
    }
   ],
   "source": [
    "plt.show()"
   ]
  },
  {
   "cell_type": "code",
   "execution_count": 153,
   "metadata": {},
   "outputs": [
    {
     "data": {
      "text/plain": [
       "(10000, 10)"
      ]
     },
     "execution_count": 153,
     "metadata": {},
     "output_type": "execute_result"
    }
   ],
   "source": [
    "predictions = model.predict(X_test)\n",
    "predictions.shape"
   ]
  }
 ],
 "metadata": {
  "kernelspec": {
   "display_name": "Python 2",
   "language": "python",
   "name": "python2"
  },
  "language_info": {
   "codemirror_mode": {
    "name": "ipython",
    "version": 2
   },
   "file_extension": ".py",
   "mimetype": "text/x-python",
   "name": "python",
   "nbconvert_exporter": "python",
   "pygments_lexer": "ipython2",
   "version": "2.7.9"
  }
 },
 "nbformat": 4,
 "nbformat_minor": 2
}
